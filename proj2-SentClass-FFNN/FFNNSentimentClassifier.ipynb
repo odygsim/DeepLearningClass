{
 "cells": [
  {
   "cell_type": "code",
   "execution_count": 5,
   "metadata": {},
   "outputs": [],
   "source": [
    "%config IPCompleter.greedy=True"
   ]
  },
  {
   "cell_type": "code",
   "execution_count": 6,
   "metadata": {},
   "outputs": [],
   "source": [
    "#######################################################################################\n",
    "#   Import Libraries needed\n",
    "#######################################################################################\n",
    "\n",
    "from sklearn.feature_extraction.text import ENGLISH_STOP_WORDS\n",
    "from sklearn.feature_extraction.text import CountVectorizer\n",
    "from sklearn.metrics import classification_report\n",
    "from sklearn import preprocessing\n",
    "import pandas as pd\n",
    "import numpy as np\n",
    "from os import path\n",
    "import time\n",
    "import gdown"
   ]
  },
  {
   "cell_type": "code",
   "execution_count": 7,
   "metadata": {},
   "outputs": [
    {
     "name": "stdout",
     "output_type": "stream",
     "text": [
      "Wall time: 2.71 s\n"
     ]
    }
   ],
   "source": [
    "#######################################################################################\n",
    "#   Load Training Dataset\n",
    "#######################################################################################\n",
    "tinit = time.time()\n",
    "\n",
    "# read train data set\n",
    "# url = 'https://drive.google.com/file/d/1dTIWNpjlrnTQBIQtaGOh0jCRYZiAQO79/view?usp=sharing'\n",
    "# path = 'https://drive.google.com/uc?export=download&id='+url.split('/')[-2]\n",
    "# output = \"twitterData.csv\"\n",
    "# gdown.download(path, output, quiet=False)\n",
    "%time twitter_data = pd.read_csv(\"../data/twitterData.csv\")"
   ]
  },
  {
   "cell_type": "code",
   "execution_count": 8,
   "metadata": {},
   "outputs": [
    {
     "data": {
      "text/html": [
       "<div>\n",
       "<style scoped>\n",
       "    .dataframe tbody tr th:only-of-type {\n",
       "        vertical-align: middle;\n",
       "    }\n",
       "\n",
       "    .dataframe tbody tr th {\n",
       "        vertical-align: top;\n",
       "    }\n",
       "\n",
       "    .dataframe thead th {\n",
       "        text-align: right;\n",
       "    }\n",
       "</style>\n",
       "<table border=\"1\" class=\"dataframe\">\n",
       "  <thead>\n",
       "    <tr style=\"text-align: right;\">\n",
       "      <th></th>\n",
       "      <th>Unnamed: 0</th>\n",
       "      <th>target</th>\n",
       "      <th>id</th>\n",
       "      <th>date</th>\n",
       "      <th>flag</th>\n",
       "      <th>user</th>\n",
       "      <th>text</th>\n",
       "    </tr>\n",
       "  </thead>\n",
       "  <tbody>\n",
       "    <tr>\n",
       "      <th>0</th>\n",
       "      <td>680949</td>\n",
       "      <td>0</td>\n",
       "      <td>2249621587</td>\n",
       "      <td>Fri Jun 19 22:41:08 PDT 2009</td>\n",
       "      <td>NO_QUERY</td>\n",
       "      <td>sukumarpant</td>\n",
       "      <td>#brokenpromises...</td>\n",
       "    </tr>\n",
       "    <tr>\n",
       "      <th>1</th>\n",
       "      <td>406741</td>\n",
       "      <td>0</td>\n",
       "      <td>2059003515</td>\n",
       "      <td>Sat Jun 06 16:03:21 PDT 2009</td>\n",
       "      <td>NO_QUERY</td>\n",
       "      <td>MTMSparrow</td>\n",
       "      <td>David Carradine  so sad. Thai's law not sure i...</td>\n",
       "    </tr>\n",
       "    <tr>\n",
       "      <th>2</th>\n",
       "      <td>1337108</td>\n",
       "      <td>4</td>\n",
       "      <td>2017466467</td>\n",
       "      <td>Wed Jun 03 08:26:14 PDT 2009</td>\n",
       "      <td>NO_QUERY</td>\n",
       "      <td>itsmemcee</td>\n",
       "      <td>A @ 415 B @ 425. Tell your bro i say congrats!</td>\n",
       "    </tr>\n",
       "    <tr>\n",
       "      <th>3</th>\n",
       "      <td>1560887</td>\n",
       "      <td>4</td>\n",
       "      <td>2186457254</td>\n",
       "      <td>Mon Jun 15 18:52:04 PDT 2009</td>\n",
       "      <td>NO_QUERY</td>\n",
       "      <td>jdfreivald</td>\n",
       "      <td>@littlefluffycat  Indeed.</td>\n",
       "    </tr>\n",
       "    <tr>\n",
       "      <th>4</th>\n",
       "      <td>1466295</td>\n",
       "      <td>4</td>\n",
       "      <td>2064458395</td>\n",
       "      <td>Sun Jun 07 06:19:20 PDT 2009</td>\n",
       "      <td>NO_QUERY</td>\n",
       "      <td>CrazyHan</td>\n",
       "      <td>Completed Race 4 Life in 58mins with girlies f...</td>\n",
       "    </tr>\n",
       "  </tbody>\n",
       "</table>\n",
       "</div>"
      ],
      "text/plain": [
       "   Unnamed: 0  target          id                          date      flag  \\\n",
       "0      680949       0  2249621587  Fri Jun 19 22:41:08 PDT 2009  NO_QUERY   \n",
       "1      406741       0  2059003515  Sat Jun 06 16:03:21 PDT 2009  NO_QUERY   \n",
       "2     1337108       4  2017466467  Wed Jun 03 08:26:14 PDT 2009  NO_QUERY   \n",
       "3     1560887       4  2186457254  Mon Jun 15 18:52:04 PDT 2009  NO_QUERY   \n",
       "4     1466295       4  2064458395  Sun Jun 07 06:19:20 PDT 2009  NO_QUERY   \n",
       "\n",
       "          user                                               text  \n",
       "0  sukumarpant                                #brokenpromises...   \n",
       "1   MTMSparrow  David Carradine  so sad. Thai's law not sure i...  \n",
       "2    itsmemcee    A @ 415 B @ 425. Tell your bro i say congrats!   \n",
       "3   jdfreivald                          @littlefluffycat  Indeed.  \n",
       "4     CrazyHan  Completed Race 4 Life in 58mins with girlies f...  "
      ]
     },
     "execution_count": 8,
     "metadata": {},
     "output_type": "execute_result"
    }
   ],
   "source": [
    "# Check form of data\n",
    "twitter_data.head()"
   ]
  },
  {
   "cell_type": "code",
   "execution_count": 9,
   "metadata": {},
   "outputs": [],
   "source": [
    "# Set part of dataset to be transformed\n",
    "twitter_data_subset = twitter_data  #[0:200]"
   ]
  },
  {
   "cell_type": "code",
   "execution_count": 10,
   "metadata": {},
   "outputs": [],
   "source": [
    "#######################################################################################\n",
    "#   Text preprocessing and transformation of string labels to numeric\n",
    "#######################################################################################\n",
    "\n",
    "# Transform \"0 and 4\" categories to boolean for binary classification\n",
    "le = preprocessing.LabelEncoder()\n",
    "y = le.fit_transform(twitter_data_subset[\"target\"])\n",
    "y = np.reshape(y,(y.shape[0],1))\n",
    "# # Show the \"transformed\" categories\n",
    "# y = le.transform(twitter_data_subset[\"target\"])"
   ]
  },
  {
   "cell_type": "code",
   "execution_count": 11,
   "metadata": {},
   "outputs": [
    {
     "name": "stdout",
     "output_type": "stream",
     "text": [
      "Wall time: 12.6 s\n",
      "in argentina any can happen lol we miss u\n"
     ]
    }
   ],
   "source": [
    "### Preprocess tweets text before converting to numerical ###\n",
    "import re\n",
    "\n",
    "def preprocessText(x):\n",
    "    # Convert to lower case\n",
    "    x = str(x).lower()\n",
    "    # # Remove url links\n",
    "    x = re.sub(r'http\\S+', '', x)\n",
    "    # Remove @ tags refer to names of users\n",
    "    x = re.sub(r'\\S*@\\S+', '', x)    \n",
    "    # Remove underscores\n",
    "    x = re.sub(r'_', ' ', x)\n",
    "    # remove special chars\n",
    "    x = re.sub(r'[^\\w ]+', \"\", x)\n",
    "    x = ' '.join(x.split())\n",
    "    if x == '': x = 'unk'\n",
    "    return x\n",
    "\n",
    "# Preprocess tweets text\n",
    "%time twitter_data_subset['text'] = twitter_data_subset['text'].apply(lambda x: preprocessText(x))\n",
    "print(twitter_data_subset['text'].iloc[1000])\n",
    "\n",
    "# txt = \" ss@notoriuS : we LOVE you all______  -&^%+** of lollll ---in Argentina odygsim@gmail.com!!!\"\n",
    "# protxt = preprocessText(txt)\n",
    "# print(protxt)\n"
   ]
  },
  {
   "cell_type": "code",
   "execution_count": 12,
   "metadata": {},
   "outputs": [],
   "source": [
    "# Pick sentiments to transform to vectors\n",
    "X = twitter_data_subset['text'].to_numpy()"
   ]
  },
  {
   "cell_type": "code",
   "execution_count": 13,
   "metadata": {},
   "outputs": [],
   "source": [
    "# Select the part of the dataset to use if it is very large\n",
    "Xsel = X[:10000] #reshape(len(Xsel),1)\n",
    "ysel = np.squeeze(y[:10000]) #[1:10000].copy()"
   ]
  },
  {
   "cell_type": "code",
   "execution_count": 14,
   "metadata": {},
   "outputs": [],
   "source": [
    "import numpy as np\n",
    "from sklearn.base import BaseEstimator, TransformerMixin\n",
    "from sklearn.utils.validation import check_X_y, check_array, check_is_fitted\n",
    "from sklearn.utils.multiclass import unique_labels\n",
    "from sklearn.metrics import euclidean_distances\n",
    "from tqdm import tqdm # for progressbar\n",
    "\n",
    "import spacy\n",
    "from spacy.tokens import Doc\n",
    "\n",
    "class TextToEmbeddingsTransformer(TransformerMixin, BaseEstimator):\n",
    "    \"\"\" A transformer that returns the sentence embedding based on word embeddings\n",
    "    produced by spacy library (GloVe embeddings based)\n",
    "    Parameters\n",
    "    ----------\n",
    "    demo_param : str, default='demo'\n",
    "        A parameter used for demonstation of how to pass and store paramters.\n",
    "    Attributes\n",
    "    ----------\n",
    "    n_features_ : int\n",
    "        The number of features of the data passed to :meth:`fit`.\n",
    "    \"\"\"\n",
    "    def __init__(self, embeddingCalculator='average', \n",
    "                 wordEmbeddingsDict={},\n",
    "                 temporaryEmbeddingsFile='',\n",
    "                 vocabulary=\"en_core_web_sm\"):\n",
    "        \n",
    "        self.embeddingCalculator = embeddingCalculator\n",
    "        self.temporaryEmbeddingsFile = temporaryEmbeddingsFile # 'vecsfile.npy'\n",
    "        self.vocabulary = vocabulary\n",
    "        self.nlp = spacy.load(vocabulary)\n",
    "        self.embeddingsDict = wordEmbeddingsDict\n",
    "\n",
    "    def fit(self, X, y=None):\n",
    "        \"\"\" Setting the data (X) to being transformed\n",
    "        Parameters\n",
    "        ----------\n",
    "        X : {array-like, sparse matrix}, shape (n_samples, n_features)\n",
    "            The transformer input samples.\n",
    "        y : None\n",
    "\n",
    "        Returns\n",
    "        -------\n",
    "        self : object\n",
    "            Returns self.\n",
    "        \"\"\"\n",
    "        # X = check_array(X, accept_sparse=True)\n",
    "\n",
    "        self.n_features_ = X.shape[0]\n",
    "\n",
    "        # Return the transformer\n",
    "        return self\n",
    "\n",
    "    def transform(self, X):\n",
    "        \"\"\" Takes the input data text (each row is a sentence consisted of words)\n",
    "        and uses spacy's nlp to turn each word to an embedding. Then it uses the\n",
    "        'average','max' or 'min' according to user's preference to outcome the sentence\n",
    "        embedding based on the word embeddings\n",
    "        Parameters\n",
    "        ----------\n",
    "        X : {array-like, sparse-matrix}, shape (n_samples, n_features)\n",
    "            The transforme input samples.\n",
    "        Returns\n",
    "        -------\n",
    "        X_transformed : array, shape (n_samples, n_features)\n",
    "            The array containing the sentence embedding of each sentence\n",
    "            in ``X``.\n",
    "        \"\"\"\n",
    "        # Check is fit had been called\n",
    "        check_is_fitted(self, 'n_features_')\n",
    "\n",
    "        # # Input validation\n",
    "#       # X = check_array(X, accept_sparse=True)\n",
    "\n",
    "        # Check that the input is of the same shape as the one passed\n",
    "        # during fit.\n",
    "        if X.shape[0] != self.n_features_:\n",
    "            raise ValueError('Shape of input is different from what was seen'\n",
    "                             'in `fit`')\n",
    "        \n",
    "        # Set dictionary to be used\n",
    "        embeddingsDict = self.embeddingsDict\n",
    "\n",
    "        \n",
    "        # Calculate X dataset embeddings or load from file\n",
    "        if self.temporaryEmbeddingsFile != '' :\n",
    "            \n",
    "            print('Loading embedding vectors from file : ' + self.temporaryEmbeddingsFile)\n",
    "            Xtrans = np.load(self.temporaryEmbeddingsFile, allow_pickle=True)\n",
    "        \n",
    "        # Case having an embeddings dictionary\n",
    "        elif len(self.embeddingsDict)> 0 :\n",
    "            \n",
    "            # Select the sentence embedding calculation method from word embeddings\n",
    "            if self.embeddingCalculator == 'min':\n",
    "                vector_embedding = lambda singledoc: np.min(\n",
    "                    [ embeddingsDict[token] \n",
    "                     if token in embeddingsDict  \n",
    "                     else  embeddingsDict['unk'] \n",
    "                     for token in singledoc                    \n",
    "                    ],\n",
    "                         axis=0)\n",
    "            elif self.embeddingCalculator == 'max':\n",
    "                vector_embedding = lambda singledoc: np.max(\n",
    "                    [ embeddingsDict[token] \n",
    "                     if token in embeddingsDict \n",
    "                     else  embeddingsDict['unk']\n",
    "                     for token in singledoc\n",
    "                    ], axis=0)\n",
    "            else:\n",
    "                vector_embedding = lambda singledoc: np.mean(\n",
    "                    [ embeddingsDict[token] \n",
    "                     if token in embeddingsDict \n",
    "                     else  embeddingsDict['unk']\n",
    "                     for token in singledoc\n",
    "                    ], axis=0)\n",
    "                \n",
    "#             # Set it up as an extension\n",
    "#             if not Doc.has_extension('vector_except_stopwords'):\n",
    "#                 Doc.set_extension(\"vector_except_stopwords\", getter=vector_except_stopwords)\n",
    "            \n",
    "            # Calc sentences embeddings\n",
    "            XtransArray =[]\n",
    "            # Show progress bar\n",
    "            pbar = tqdm( total=len(X) )\n",
    "            pbar.clear()\n",
    "            \n",
    "            # Convert docs to vector embeddings\n",
    "            for doc in X:\n",
    "                XtransArray.append(vector_embedding(doc))\n",
    "                pbar.update(1)\n",
    "            \n",
    "            pbar.close()\n",
    "            \n",
    "            # Convert to numpy array\n",
    "            Xtrans = np.array(XtransArray)\n",
    "\n",
    "        # Case using spacy's embeddings\n",
    "        else:\n",
    "            \n",
    "            # Select the sentence embedding calculation method from word embeddings\n",
    "            if self.embeddingCalculator == 'min':\n",
    "                vector_except_stopwords = lambda singledoc: np.min(\n",
    "                    [token.vector for token in singledoc if not token.is_stop ], axis=0)\n",
    "            elif self.embeddingCalculator == 'max':\n",
    "                vector_except_stopwords = lambda singledoc: np.max(\n",
    "                    [token.vector for token in singledoc if not token.is_stop], axis=0)\n",
    "            else:\n",
    "                vector_except_stopwords = lambda singledoc: np.mean(\n",
    "                    [token.vector for token in singledoc if not token.is_stop], axis=0)\n",
    "                \n",
    "            # Set it up as an extension\n",
    "            if not Doc.has_extension('vector_except_stopwords'):\n",
    "                Doc.set_extension(\"vector_except_stopwords\", getter=vector_except_stopwords)\n",
    "            \n",
    "            # Calc sentences embeddings\n",
    "            XtransArray =[]\n",
    "            for doc in self.nlp.pipe(X):\n",
    "                XtransArray.append(doc._.vector_except_stopwords)\n",
    "            \n",
    "            # Convert to numpy array\n",
    "            Xtrans = np.array(XtransArray)\n",
    "            \n",
    "        return Xtrans\n"
   ]
  },
  {
   "cell_type": "code",
   "execution_count": 15,
   "metadata": {},
   "outputs": [],
   "source": [
    "from sklearn.feature_extraction.text import CountVectorizer\n",
    "from sklearn.feature_extraction.text import TfidfVectorizer\n",
    "def build_vector_model(mode='count'):\n",
    "    if mode == 'count':\n",
    "        transformer = CountVectorizer()\n",
    "        method = 'count'\n",
    "    if mode == 'tfidf':\n",
    "        transformer =  TfidfVectorizer()\n",
    "        method = 'tfidf'\n",
    "    if mode == 'word_embeddings':\n",
    "        transformer = TextToEmbeddingsTransformer(wordEmbeddingsDict=glove_embedding)\n",
    "        method = 'wordembed'\n",
    "    \n",
    "    print('Using text transformation : ', method)\n",
    "    return transformer"
   ]
  },
  {
   "cell_type": "code",
   "execution_count": 17,
   "metadata": {},
   "outputs": [
    {
     "name": "stdout",
     "output_type": "stream",
     "text": [
      "Wall time: 4.25 s\n",
      "Wall time: 4.35 s\n"
     ]
    }
   ],
   "source": [
    "# Load glove embeddings into dictionary\n",
    "%time glove = pd.read_csv('..\\data\\glove.6B\\glove.6B.100d.txt', sep=\" \", quoting=3, header=None, index_col=0)\n",
    "%time glove_embedding = {key: val.values for key, val in glove.T.items()}"
   ]
  },
  {
   "cell_type": "code",
   "execution_count": 18,
   "metadata": {
    "scrolled": true
   },
   "outputs": [
    {
     "name": "stderr",
     "output_type": "stream",
     "text": [
      " 39%|████████████████████████████▊                                             | 3893/10000 [00:00<00:00, 19252.93it/s]"
     ]
    },
    {
     "name": "stdout",
     "output_type": "stream",
     "text": [
      "Using text transformation :  wordembed\n"
     ]
    },
    {
     "name": "stderr",
     "output_type": "stream",
     "text": [
      "100%|█████████████████████████████████████████████████████████████████████████| 10000/10000 [00:00<00:00, 19026.04it/s]\n"
     ]
    }
   ],
   "source": [
    "# Pick transformer\n",
    "# model_pipeline = build_vector_model(mode='word_embeddings')\n",
    "model_pipeline = build_vector_model(mode='word_embeddings')\n",
    "# Tranform to vectors\n",
    "Xsel_transf = model_pipeline.fit_transform(Xsel,ysel)\n",
    "# Xval_transf = model_pipeline.fit_transform(Xval,yval)"
   ]
  },
  {
   "cell_type": "code",
   "execution_count": 19,
   "metadata": {},
   "outputs": [],
   "source": [
    "# Split dataset to train/validation/test set in order\n",
    "# not to overfit classifiers hyperparameters\n",
    "\n",
    "from sklearn.model_selection import train_test_split\n",
    "\n",
    "# Split the train dataset in two equal parts : train_gs , test_gs\n",
    "# to use in gridsearch for training/testing\n",
    "Xtrain, Xtotaltest, ytrain, ytotaltest = train_test_split(\n",
    "    Xsel_transf, ysel, test_size=0.3, random_state=42, shuffle=True, stratify=ysel)\n",
    "Xval, Xtest, yval, ytest = train_test_split(\n",
    "    Xtotaltest, ytotaltest, test_size=0.5, random_state=42, shuffle=True, stratify=ytotaltest)"
   ]
  },
  {
   "cell_type": "code",
   "execution_count": 20,
   "metadata": {},
   "outputs": [],
   "source": [
    "# ysel = np.squeeze(ysel)\n",
    "# print(ysel)\n",
    "# glove_embedding['.']"
   ]
  },
  {
   "cell_type": "code",
   "execution_count": 21,
   "metadata": {},
   "outputs": [],
   "source": [
    "# singledoc = ['bill', 'big']\n",
    "# # testy = np.min([ glove_embedding[token] \n",
    "# #                 if (token in glove_embedding and not token == 'not')\n",
    "# #                 else glove_embedding['unknown'] \n",
    "# #                 for token in singledoc ], axis=0)\n",
    "\n",
    "# testy2 = np.min([ glove_embedding[token] \n",
    "#                      if token in glove_embedding and not token == 'big'\n",
    "#                      else  glove_embedding['unknown']  \n",
    "#                  for token in singledoc                 \n",
    "#                     ], axis=0)\n",
    "# # print(glove_embedding['unknown'])\n",
    "# print(glove_embedding['big'])\n",
    "# print(glove_embedding['bill'])\n",
    "# print(glove_embedding['unknown'])\n",
    "# # print(glove_embedding['nurse'])\n",
    "# print(testy)\n",
    "# if testy.all() == glove_embedding['unknown'].all():\n",
    "#     print('yes')\n",
    "# else:\n",
    "#     print('no')"
   ]
  },
  {
   "cell_type": "code",
   "execution_count": 22,
   "metadata": {},
   "outputs": [],
   "source": [
    "# doc = Xtrain[2]\n",
    "# vector_except_stopwords = lambda singledoc: np.mean(\n",
    "#     [ glove_embedding[token] \n",
    "#      if token in glove_embedding and not token=='big'\n",
    "#      else  glove_embedding['unk']\n",
    "#      for token in singledoc\n",
    "#     ], axis=0)\n",
    "# vector_except_stopwords(doc)"
   ]
  },
  {
   "cell_type": "code",
   "execution_count": 23,
   "metadata": {},
   "outputs": [],
   "source": [
    "# with open('fullTransformedSentiments.npy', 'wb') as f:\n",
    "#     np.save(f, np.array(Xtransf))"
   ]
  },
  {
   "cell_type": "code",
   "execution_count": 24,
   "metadata": {},
   "outputs": [],
   "source": [
    "# Xtrain_transf[100]"
   ]
  },
  {
   "cell_type": "code",
   "execution_count": 25,
   "metadata": {},
   "outputs": [],
   "source": [
    "# Xtransf[0].shape\n"
   ]
  },
  {
   "cell_type": "code",
   "execution_count": 26,
   "metadata": {},
   "outputs": [],
   "source": [
    "# # zeroarray =[]\n",
    "# # for i in range(len(X)):\n",
    "# #     if len(X[i])== 0:\n",
    "# #         zeroarray.append(i)\n",
    "# # X[zeroarray[2]]\n",
    "# twitter_data.iloc[zeroarray[1078]]"
   ]
  },
  {
   "cell_type": "code",
   "execution_count": 27,
   "metadata": {},
   "outputs": [],
   "source": [
    "# glove_embedding['unk']"
   ]
  },
  {
   "cell_type": "code",
   "execution_count": 28,
   "metadata": {},
   "outputs": [],
   "source": [
    "# ysel.shape[0]"
   ]
  },
  {
   "cell_type": "code",
   "execution_count": 29,
   "metadata": {},
   "outputs": [],
   "source": [
    "# import torch\n",
    "# def describe(x):\n",
    "#     print(\"Type: {}\".format(x.type()))\n",
    "#     print(\"Shape/size: {}\".format(x.shape))\n",
    "#     print(\"Values: \\n{}\".format(x))\n",
    "\n",
    "# batch_size = 12\n",
    "# input_dim = 1000    \n",
    "# x_input = torch.rand(batch_size, input_dim)\n",
    "# describe(x_input)"
   ]
  },
  {
   "cell_type": "code",
   "execution_count": 30,
   "metadata": {},
   "outputs": [],
   "source": [
    "# from tempfile import TemporaryFile\n",
    "# vecsfile = TemporaryFile()\n",
    "# np.save(vecsfile, vecs)\n",
    "\n",
    "# with open('vecsfile.npy', 'wb') as f:\n",
    "#     np.save(f, np.array(vecs))\n",
    "    \n",
    "# # _ = vecsfile.seek(0)\n",
    "# import numpy as np\n",
    "# testy = np.load('vecsfile.npy',allow_pickle=True)\n",
    "#\n",
    "# # pd.DataFrame(np.asarray(vecs)).to_csv('textvecs.csv')"
   ]
  },
  {
   "cell_type": "code",
   "execution_count": 31,
   "metadata": {},
   "outputs": [],
   "source": [
    "# import numpy as np\n",
    "# df['sent_vectors'] = df['tokenized'].apply(\n",
    "#   lambda sent: np.mean([token.vector for token in sent if not token.is_stop], axis=0)\n",
    "# )\n",
    "# #     lambda sent: sent.vector)\n",
    "# df['sent_vectors']\n",
    "\n",
    "# # df = train_data.copy()[1:2000]\n",
    "# # df['tokenized']= df['text'].apply(sp)"
   ]
  },
  {
   "cell_type": "code",
   "execution_count": 32,
   "metadata": {},
   "outputs": [
    {
     "name": "stdout",
     "output_type": "stream",
     "text": [
      "Device available for running: \n",
      "cpu\n"
     ]
    }
   ],
   "source": [
    "import torch.nn as nn\n",
    "import torch.nn.functional as F\n",
    "import torch.optim as optim\n",
    "import torch\n",
    "# Use cuda if present\n",
    "device = torch.device(\"cuda\" if torch.cuda.is_available() else \"cpu\")\n",
    "print(\"Device available for running: \")\n",
    "print(device)"
   ]
  },
  {
   "cell_type": "code",
   "execution_count": 33,
   "metadata": {},
   "outputs": [],
   "source": [
    "class FeedforwardNeuralNetModel(nn.Module):\n",
    "    def __init__(self, input_dim, output_dim, hidden_layers):\n",
    "        super(FeedforwardNeuralNetModel, self).__init__()\n",
    "        \n",
    "        self.fc = nn.ModuleList()\n",
    "        self.activF = nn.ModuleList()\n",
    "        self.hidden_layers = hidden_layers\n",
    "        \n",
    "        # Get hidden layers number\n",
    "        hidden_dims =  hidden_layers['hidden_layers_dims']\n",
    "        hidden_layers_no = hidden_layers['hidden_layers_no']\n",
    "        \n",
    "        # Create a hidden layer for each\n",
    "        for hidden_layer in range( hidden_layers_no ) :      \n",
    "            \n",
    "            if ( hidden_layer == 0) : # Case of input to 1st hidden layer\n",
    "                self.fc.append( nn.Linear(input_dim, hidden_dims[hidden_layer]) )\n",
    "                # Non-linearity\n",
    "                self.activF.append( nn.ReLU() )\n",
    "            elif (hidden_layer == hidden_layers_no-1): # Case intermediate hidden layer\n",
    "                self.fc.append( nn.Linear(hidden_dims[hidden_layer-1], output_dim) )\n",
    "                # Non-linearity\n",
    "                self.activF.append( nn.ReLU() )\n",
    "            else: # Case last hidden layer to output\n",
    "                self.fc.append( nn.Linear(hidden_dims[hidden_layer-1], hidden_dims[hidden_layer]) )\n",
    "                # Non-linearity\n",
    "                self.activF.append( nn.ReLU() ) \n",
    "\n",
    "    def forward(self, x):\n",
    "        out = x\n",
    "        # Forward pass all hidden layers with activation functions\n",
    "        for layer in range(self.hidden_layers['hidden_layers_no']):\n",
    "            # Linear function\n",
    "            out = self.fc[layer](out)\n",
    "            # Activation function\n",
    "            out = self.activF[layer](out)\n",
    "        \n",
    "        # Return the softmax\n",
    "        out = F.softmax(out, dim=1)\n",
    "        \n",
    "        return out\n",
    "    "
   ]
  },
  {
   "cell_type": "code",
   "execution_count": 34,
   "metadata": {},
   "outputs": [],
   "source": [
    "from torch.utils.data import Dataset, DataLoader\n",
    "from torch import from_numpy, tensor\n",
    "import numpy as np\n",
    "\n",
    "class sentimentsDataset(Dataset):\n",
    "    # Initialize your data, download, etc.\n",
    "    def __init__(self, X, y):\n",
    "        self.len = X.shape[0]\n",
    "#         print(X[15,638], X[15,792], X[15,793], X[15,878])\n",
    "        self.x_data = torch.from_numpy(X) #.to_sparse() #0:-1]) #.to_sparse() \n",
    "#         print(self.x_data[15,638], self.x_data[15,792], self.x_data[15,793], self.x_data[15,878])\n",
    "        self.y_data = torch.from_numpy(y) #.to_sparse() #) #.to_sparse()\n",
    "    def __getitem__(self, index):\n",
    "        return self.x_data[index], self.y_data[index]\n",
    "\n",
    "    def __len__(self):\n",
    "        return self.len\n",
    "\n",
    "class sentimentsPredictionsDataset(Dataset):\n",
    "    # Initialize your data, download, etc.\n",
    "    def __init__(self, X, y):\n",
    "        self.len = X.shape[0]\n",
    "        self.x_data = torch.from_numpy(X)\n",
    "        self.y_data = torch.from_numpy(y)\n",
    "    def __getitem__(self, index):\n",
    "        return self.x_data[index],self.y_data[index]\n",
    "\n",
    "    def __len__(self):\n",
    "        return self.len"
   ]
  },
  {
   "cell_type": "code",
   "execution_count": null,
   "metadata": {},
   "outputs": [],
   "source": []
  },
  {
   "cell_type": "code",
   "execution_count": 77,
   "metadata": {},
   "outputs": [],
   "source": [
    "from sklearn.base import ClassifierMixin\n",
    "from sklearn.base import BaseEstimator\n",
    "from sklearn import metrics\n",
    "import matplotlib.pyplot as plt \n",
    "from tqdm import tqdm # for progressbar\n",
    "import torch.nn as nn\n",
    "import torch.nn.functional as F\n",
    "import torch.optim as optim\n",
    "import torch\n",
    "class FeedForwardNNClassifier(ClassifierMixin, BaseEstimator):\n",
    "    \"\"\" A classifier which implements a feed forward neural net algorithm\n",
    "    for sentiment analysis.\n",
    "    Parameters\n",
    "    ----------\n",
    "    demo_param : str, default='demo'\n",
    "        A parameter used for demonstation of how to pass and store paramters.\n",
    "    Attributes\n",
    "    ----------\n",
    "    X_ : ndarray, shape (n_samples, n_features)\n",
    "        The input passed during :meth:`fit`.\n",
    "    y_ : ndarray, shape (n_samples,)\n",
    "        The labels passed during :meth:`fit`.\n",
    "    classes_ : ndarray, shape (n_classes,)\n",
    "        The classes seen at :meth:`fit`.\n",
    "    \"\"\"\n",
    "    def __init__(self, input_dim, output_dim, num_epochs=10, \n",
    "                 hidden_layers={'hidden_layers_no' : 2, 'hidden_layers_dims': [50, 50]},\n",
    "                 activation_function = 'ReLU', loss_function='CrossEntropy', \n",
    "                 optimizer_name='SGD', learning_rate=0.005,\n",
    "                 plot_loss=False\n",
    "                ):\n",
    "        \n",
    "        # Set the NN model dimension parameters and initialize FFFNN\n",
    "        self.input_dim = input_dim\n",
    "        print('Initializing ffnn clasfr with input dim ', self.input_dim)\n",
    "        self.output_dim = output_dim\n",
    "        self.hidden_layers = hidden_layers\n",
    "        self.num_epochs = num_epochs\n",
    "        self.train_loss = []\n",
    "        self.plot_loss = plot_loss\n",
    "        self.optimizer_name = optimizer_name\n",
    "        self.learning_rate = learning_rate\n",
    "        \n",
    "        # Select loss function\n",
    "        if loss_function == 'CrossEntropy':\n",
    "            self.loss_function=nn.CrossEntropyLoss()\n",
    "        elif loss_function == 'MeanSquaredError':\n",
    "            self.loss_function = nn.MSELoss\n",
    "        elif loss_function == 'MeanAbsoluteError':\n",
    "            self.loss_function == nn.L1Loss\n",
    "        elif loss_function == 'BinaryCrossEntropy':\n",
    "            self.loss_function == nn.BCELoss\n",
    "        elif loss_function == 'HuberLoss':\n",
    "            self.loss_function == nn.SmoothL1Loss\n",
    "        else :\n",
    "            pass\n",
    "        \n",
    "        # Select the activation function\n",
    "        # SELU > ELU > leaky ReLU (and variants) > ReLU > tanh > logistic (sigmoid)\n",
    "        #\n",
    "        if activation_function == 'Sigmoid':\n",
    "            self.activation_function=nn.Sigmoid()\n",
    "        elif activation_function == 'HyperbolicTangent':\n",
    "            self.activation_function = nn.Tanh()\n",
    "        elif activation_function == 'ReLU': # all ReLU methods need at least He initialization\n",
    "            self.activation_function = nn.ReLU()\n",
    "        elif activation_function == 'LeakyReLU': # a can be 0.01 - 0.2 (lectures suggestions), normally 0.3 (keras)\n",
    "            self.activation_function = nn.LeakyReLU()\n",
    "        elif activation_function == 'SoftPlus':\n",
    "            self.activation_function = nn.Softplus()\n",
    "        elif activation_function == 'SeLU': \n",
    "            # Scaled ELU : very good for dense sequential nets\n",
    "            # Needs 1) LeCun initialization for hidden layers\n",
    "            # 2) standarized input features (mean 0, stdev 1)\n",
    "            self.activation_function = nn.SELU() \n",
    "        elif activation_function == 'ELU': # Exponential Linear Unit : usually a=1 / slow to compute\n",
    "            self.activation_function = nn.ELU()   \n",
    "        elif activation_function == 'RReLU': # Randomized leaky Relu\n",
    "            self.activation_function = nn.RReLU()          \n",
    "        elif activation_function == 'PReLU': # Parametric leaky Relu\n",
    "            self.activation_function = nn.PReLU()\n",
    "        else:\n",
    "            pass\n",
    "\n",
    "        # Select the optimizer\n",
    "        \n",
    "#         self.configure_plots_appearance(plot_loss=plot_loss)\n",
    "\n",
    "    def train_loss_plot(self):\n",
    "        epochs = range(1,self.num_epochs+1)\n",
    "        plt.plot(epochs, self.train_loss, 'g', label='Training loss')\n",
    "#         plt.plot(epochs, loss_val, 'b', label='validation loss')\n",
    "        plt.title('Training loss')\n",
    "        plt.xlabel('Epochs')\n",
    "        plt.ylabel('Loss')\n",
    "        plt.legend()\n",
    "        plt.show()\n",
    "        \n",
    "    def fit(self, X, y):\n",
    "        \"\"\"A reference implementation of a fitting function for a classifier.\n",
    "        Parameters\n",
    "        ----------\n",
    "        X : array-like, shape (n_samples, n_features)\n",
    "            The training input samples.\n",
    "        y : array-like, shape (n_samples,)\n",
    "            The target values. An array of int.\n",
    "        Returns\n",
    "        -------\n",
    "        self : object\n",
    "            Returns self.\n",
    "        \"\"\"\n",
    "        \n",
    "        # # Sparse matrix check\n",
    "        # scipy.sparse.issparse(my_matrix)\n",
    "        \n",
    "        # Check that X and y have correct shape\n",
    "        X, y = check_X_y(X, y)\n",
    "        # Store the classes seen during fit\n",
    "        self.classes_ = unique_labels(y)\n",
    "        # Store dataset, labels\n",
    "        self.X_ = X\n",
    "        self.y_ = y\n",
    "        \n",
    "        # Get X dataset input features dimension\n",
    "        self.input_dim = self.X_[0].shape[0]\n",
    "        # Initialize FF neural net model\n",
    "        self.ffnn = FeedforwardNeuralNetModel(input_dim=self.input_dim, \n",
    "                                              output_dim=self.output_dim, hidden_layers=self.hidden_layers)\n",
    "        self.ffnn.to(device)\n",
    "        \n",
    "        # Load model to device = GPU\n",
    "#         self.ffnn.to(device)\n",
    "        # Assign loss function and optimizer\n",
    "#         self.loss_function = nn.CrossEntropyLoss()\n",
    "        \n",
    "        # Select the activation function\n",
    "        if self.optimizer_name == 'SGD':\n",
    "            self.optimizer = optim.SGD(self.ffnn.parameters(), lr=self.learning_rate)\n",
    "        elif self.optimizer_name == 'Momentum': # momentum = friction ( 0 high - 1 low - usual 0.9 )\n",
    "            self.optimizer = optim.SGD(self.ffnn.parameters(), lr=self.learning_rate, momentum=0.9)\n",
    "        elif self.optimizer_name == 'Nesterov':\n",
    "            self.optimizer = optim.SGD(self.ffnn.parameters(), lr=self.learning_rate, momentum=0.9, nesterov=True)\n",
    "        elif self.optimizer_name == 'AdaGrad': # scales down gradient vector along steepest dims \n",
    "            # Often stops too early for neural nets - NOT FOR DEEP NN\n",
    "            self.optimizer = optim.Adagrad()\n",
    "        elif self.optimizer_name == 'RMSProp': # like Adagrad but using gradients of most recent iterations plus\n",
    "            # uses exponential decay. Normal alpha working good : 0.9\n",
    "            self.optimizer = optim.RMSprop(self.ffnn.parameters(), lr=self.learning_rate, alpha=0.9)\n",
    "        elif self.optimizer_name == 'Adam': # Combination of momentum and Rmsprop\n",
    "            # Usual values for b1=0.9, b2=0.999 and e=10^(-7)\n",
    "            # But it is ADAPTIVE algorithm so we can use learning rate = 0.001 without issue\n",
    "            self.optimizer = optim.Adam ()\n",
    "        elif self.optimizer_name == 'AdaMax': # differentiation of Adam. To use if we have problems with plain Adam\n",
    "            self.optimizer = optim.Adamax() \n",
    "        elif self.optimizer_name == 'Nadam': # Adam using Nesterov trick - TODO: find how to configure\n",
    "            self.optimizer = optim.Adam()\n",
    "            \n",
    "#         self.optimizer = optim.SGD(self.ffnn.parameters(), lr=0.3)\n",
    "        \n",
    "        # Create dataset and dataloader for use from pytorch\n",
    "        self.dataset = sentimentsDataset(self.X_,self.y_)\n",
    "        self.train_loader = DataLoader(dataset=self.dataset,\n",
    "                          batch_size=32,\n",
    "                          shuffle=True)#,num_workers=2)\n",
    "        \n",
    "        # Initialize train loss array\n",
    "        self.train_loss=[]\n",
    "        \n",
    "        # Start training\n",
    "        for epoch in tqdm( range(self.num_epochs) ):\n",
    "            \n",
    "            # Initialize training loss and start keeping record\n",
    "            train_loss = 0\n",
    "            \n",
    "            # Loop over dataset batches\n",
    "            for index, data in enumerate(self.train_loader, 0) :\n",
    "\n",
    "                # Get data\n",
    "                inputs, labels = data\n",
    "\n",
    "                # Wrap them in Variable\n",
    "                inputs, labels = inputs, labels\n",
    "\n",
    "                # Clearing the accumulated gradients\n",
    "                self.optimizer.zero_grad()\n",
    "\n",
    "                # Forward pass to get output\n",
    "                preds = self.ffnn.forward(inputs.float())\n",
    "\n",
    "                # Calculate Loss: softmax --> cross entropy loss\n",
    "                loss = self.loss_function(preds, labels)\n",
    "                \n",
    "                # Accumulating the loss over time\n",
    "                train_loss += loss.item()\n",
    "\n",
    "                # Getting gradients w.r.t. parameters\n",
    "                loss.backward()\n",
    "\n",
    "                # Updating parameters\n",
    "                self.optimizer.step()\n",
    "                \n",
    "                # # Write loss in file\n",
    "                # f.write(str((epoch+1)) + \",\" + str(train_loss / Xtrain.shape[0]))\n",
    "                # f.write('\\n')\n",
    "        \n",
    "            # Keep train loss per epoch for plotting purposes\n",
    "            self.train_loss.append(train_loss/self.X_.shape[0])\n",
    "            \n",
    "        # Print loss of epoch\n",
    "        print(train_loss)\n",
    "        # Plot train loss if set\n",
    "        if self.plot_loss: self.train_loss_plot()\n",
    "        \n",
    "        # Return the classifier\n",
    "        return self\n",
    "\n",
    "    def predict(self, X):\n",
    "        \"\"\" A reference implementation of a prediction for a classifier.\n",
    "        Parameters\n",
    "        ----------\n",
    "        X : array-like, shape (n_samples, n_features)\n",
    "            The input samples.\n",
    "        Returns\n",
    "        -------\n",
    "        y : ndarray, shape (n_samples,)\n",
    "            The label for each sample is the label of the closest sample\n",
    "            seen during fit.\n",
    "        \"\"\"\n",
    "#         # Check is fit had been called\n",
    "#         check_is_fitted(self, ['X_', 'y_'])\n",
    "\n",
    "#         # Input validation\n",
    "# #         X = check_array(X)\n",
    "#         # Dummy y labels\n",
    "#         y = np.random.randint(2,size=X.shape[0]) #.astype(float)\n",
    "\n",
    "#         # Create dataset and dataloader for use from pytorch\n",
    "#         pred_dataset = sentimentsPredictionsDataset(X, y)\n",
    "#         pred_loader = DataLoader(dataset=pred_dataset,\n",
    "#                           batch_size=32,\n",
    "#                           shuffle=False)#,num_workers=2)\n",
    "        \n",
    "# #         ypred=np.array()\n",
    "#         # Loop over all samples\n",
    "#         for index, data in enumerate(pred_loader, 0):\n",
    "#             # Get data\n",
    "#             predInputs, predLabels = data\n",
    "\n",
    "#             # Wrap them in Variable\n",
    "#             predInputs, predLabels = predInputs, predLabels\n",
    "\n",
    "#             # Forward pass to get output\n",
    "#             preds = self.ffnn(predInputs.float())\n",
    "# #             print(preds.detach().numpy())\n",
    "            \n",
    "#             # Keep predicted labels\n",
    "# #             ypred = np.append(ypred,torch.argmax(preds, dim=1))\n",
    "        \n",
    "#             # Get the probabilities calculated for each class\n",
    "#             if index == 0 :\n",
    "#                 ypred_probs = preds.detach().numpy()\n",
    "#             else:\n",
    "#                 ypred_probs = np.vstack( ( ypred_probs, preds.detach().numpy() ) )\n",
    "        \n",
    "        # Get classes prediction probabilities\n",
    "        ypred_probs = self.predict_proba(X)\n",
    "        # Return the prevailing class (argmax)\n",
    "        ypred = np.argmax(ypred_probs, axis=1)\n",
    "\n",
    "        return ypred\n",
    "\n",
    "    def predict_proba(self, X):\n",
    "        \"\"\" A reference implementation of a prediction for a classifier.\n",
    "        Parameters\n",
    "        ----------\n",
    "        X : array-like, shape (n_samples, n_features)\n",
    "            The input samples.\n",
    "        Returns\n",
    "        -------\n",
    "        y : ndarray, shape (n_samples,)\n",
    "            The label for each sample is the probability of each class\n",
    "        \"\"\"\n",
    "        # Check is fit had been called\n",
    "        check_is_fitted(self, ['X_', 'y_'])\n",
    "\n",
    "        # Input validation\n",
    "#         X = check_array(X)\n",
    "        # Dummy y labels\n",
    "        y = np.random.randint(2,size=X.shape[0]) #.astype(float)\n",
    "\n",
    "        # Create dataset and dataloader for use from pytorch\n",
    "        pred_dataset = sentimentsPredictionsDataset(X, y)\n",
    "        pred_loader = DataLoader(dataset=pred_dataset,\n",
    "                          batch_size=32,\n",
    "                          shuffle=False)#,num_workers=2)\n",
    "        \n",
    "#         ypred=np.array()\n",
    "        # Loop over all samples\n",
    "        for index, data in enumerate(pred_loader, 0):\n",
    "            # Get data\n",
    "            predInputs, predLabels = data\n",
    "\n",
    "            # Wrap them in Variable\n",
    "            predInputs, predLabels = predInputs, predLabels\n",
    "\n",
    "            # Forward pass to get output\n",
    "            preds = self.ffnn(predInputs.float())\n",
    "#             print(preds.detach().numpy())\n",
    "            \n",
    "            # Keep predicted labels\n",
    "#             ypred = np.append(ypred,torch.argmax(preds, dim=1))\n",
    "        \n",
    "            if index == 0 :\n",
    "                ypred_probs = preds.detach().numpy()\n",
    "            else:\n",
    "                ypred_probs = np.vstack( ( ypred_probs, preds.detach().numpy() ) )\n",
    "\n",
    "        return ypred_probs\n",
    "    \n",
    "#     def configure_plots_appearance(plot_roc_curve=False, plot_loss=False):\n",
    "#         self.plot_loss = plot_loss\n",
    "\n",
    "    \n",
    "\n",
    "        \n",
    "    "
   ]
  },
  {
   "cell_type": "code",
   "execution_count": 114,
   "metadata": {},
   "outputs": [
    {
     "name": "stdout",
     "output_type": "stream",
     "text": [
      "Initializing ffnn clasfr with input dim  100\n"
     ]
    }
   ],
   "source": [
    "mynn_clasf = FeedForwardNNClassifier(input_dim=100, output_dim=2, num_epochs=100, \n",
    "                                     optimizer_name='Momentum', learning_rate=0.001, plot_loss=True)"
   ]
  },
  {
   "cell_type": "code",
   "execution_count": 115,
   "metadata": {},
   "outputs": [],
   "source": [
    "# X = np.random.rand(100,5)\n",
    "# y = np.random.randint(5,size=(100,))\n",
    "# np.unique(y)\n",
    "# ytrain\n",
    "# Xtrain[15,12021]"
   ]
  },
  {
   "cell_type": "code",
   "execution_count": 116,
   "metadata": {},
   "outputs": [
    {
     "name": "stderr",
     "output_type": "stream",
     "text": [
      "100%|████████████████████████████████████████████████████████████████████████████████| 100/100 [00:17<00:00,  5.88it/s]"
     ]
    },
    {
     "name": "stdout",
     "output_type": "stream",
     "text": [
      "150.78931385278702\n"
     ]
    },
    {
     "name": "stderr",
     "output_type": "stream",
     "text": [
      "\n"
     ]
    },
    {
     "data": {
      "image/png": "[encoded data removed]",
      "text/plain": [
       "<Figure size 432x288 with 1 Axes>"
      ]
     },
     "metadata": {
      "needs_background": "light"
     },
     "output_type": "display_data"
    },
    {
     "data": {
      "text/plain": [
       "FeedForwardNNClassifier(activation_function=ReLU(), input_dim=100,\n",
       "                        learning_rate=0.001, loss_function=CrossEntropyLoss(),\n",
       "                        num_epochs=100, optimizer_name='Momentum', output_dim=2,\n",
       "                        plot_loss=True)"
      ]
     },
     "execution_count": 116,
     "metadata": {},
     "output_type": "execute_result"
    }
   ],
   "source": [
    "mynn_clasf.fit(Xtrain,ytrain)"
   ]
  },
  {
   "cell_type": "code",
   "execution_count": 117,
   "metadata": {},
   "outputs": [],
   "source": [
    "from sklearn import metrics\n",
    "import matplotlib.pyplot as plt \n",
    "\n",
    "def ffnn_roc_curve_plot(y, ypred_probs, pos_label):\n",
    "    # Get positive sentiments probabilities to use in ROC curve\n",
    "    ypositive_probs = np.array([yi[1] for yi in ypred_probs])\n",
    "    # Calc ROC curve\n",
    "    fpr, tpr, thresholds = metrics.roc_curve(y, ypositive_probs, pos_label=pos_label)\n",
    "    # Display ROC curve\n",
    "    roc_auc = metrics.auc(fpr, tpr)\n",
    "    display = metrics.RocCurveDisplay(fpr=fpr, tpr=tpr, roc_auc=roc_auc, estimator_name='example estimator')\n",
    "    display.plot()  \n",
    "    plt.show()"
   ]
  },
  {
   "cell_type": "code",
   "execution_count": 118,
   "metadata": {},
   "outputs": [],
   "source": [
    "# Predict sentiments probabilities\n",
    "ypred_probs = mynn_clasf.predict_proba(Xtrain)"
   ]
  },
  {
   "cell_type": "code",
   "execution_count": 119,
   "metadata": {},
   "outputs": [],
   "source": [
    "# ypred_=mynn_clasf.predict(Xtrain)"
   ]
  },
  {
   "cell_type": "code",
   "execution_count": 120,
   "metadata": {},
   "outputs": [
    {
     "ename": "ValueError",
     "evalue": "The truth value of an array with more than one element is ambiguous. Use a.any() or a.all()",
     "output_type": "error",
     "traceback": [
      "\u001b[1;31m---------------------------------------------------------------------------\u001b[0m",
      "\u001b[1;31mValueError\u001b[0m                                Traceback (most recent call last)",
      "\u001b[1;32m<ipython-input-120-de808b666c0e>\u001b[0m in \u001b[0;36m<module>\u001b[1;34m\u001b[0m\n\u001b[1;32m----> 1\u001b[1;33m \u001b[0mmax\u001b[0m\u001b[1;33m(\u001b[0m\u001b[0mypred_probs\u001b[0m\u001b[1;33m)\u001b[0m\u001b[1;33m\u001b[0m\u001b[1;33m\u001b[0m\u001b[0m\n\u001b[0m",
      "\u001b[1;31mValueError\u001b[0m: The truth value of an array with more than one element is ambiguous. Use a.any() or a.all()"
     ]
    }
   ],
   "source": [
    "max(ypred_probs)"
   ]
  },
  {
   "cell_type": "code",
   "execution_count": 121,
   "metadata": {},
   "outputs": [
    {
     "data": {
      "image/png": "[encoded data removed]",
      "text/plain": [
       "<Figure size 432x288 with 1 Axes>"
      ]
     },
     "metadata": {
      "needs_background": "light"
     },
     "output_type": "display_data"
    }
   ],
   "source": [
    "ffnn_roc_curve_plot(ytrain, ypred_probs, pos_label=1)\n",
    "# # Get positive sentiments probabilities to use in ROC curve\n",
    "# ypositive_probs = np.array([yi[1] for yi in ypred])\n",
    "# # Calc ROC curve\n",
    "# fpr, tpr, thresholds = metrics.roc_curve(ytrain, ypositive_probs, pos_label=1)\n",
    "# # Display ROC curve\n",
    "# roc_auc = metrics.auc(fpr, tpr)\n",
    "# display = metrics.RocCurveDisplay(fpr=fpr, tpr=tpr, roc_auc=roc_auc,                                          estimator_name='example estimator')\n",
    "# display.plot()  \n",
    "# plt.show()\n"
   ]
  },
  {
   "cell_type": "code",
   "execution_count": 122,
   "metadata": {},
   "outputs": [
    {
     "name": "stdout",
     "output_type": "stream",
     "text": [
      "              precision    recall  f1-score   support\n",
      "\n",
      "           0       0.60      0.06      0.10      3377\n",
      "           1       0.52      0.96      0.68      3623\n",
      "\n",
      "    accuracy                           0.53      7000\n",
      "   macro avg       0.56      0.51      0.39      7000\n",
      "weighted avg       0.56      0.53      0.40      7000\n",
      "\n"
     ]
    }
   ],
   "source": [
    "# Get predicted labels and show classification report\n",
    "ypred_ = np.argmax(ypred_probs,axis=1)\n",
    "print(classification_report(ytrain,ypred_))"
   ]
  },
  {
   "cell_type": "code",
   "execution_count": 123,
   "metadata": {},
   "outputs": [
    {
     "data": {
      "text/plain": [
       "array([1, 1, 1, ..., 1, 1, 1], dtype=int64)"
      ]
     },
     "execution_count": 123,
     "metadata": {},
     "output_type": "execute_result"
    }
   ],
   "source": [
    "np.argmax(ypred_probs,axis=1)"
   ]
  },
  {
   "cell_type": "code",
   "execution_count": 124,
   "metadata": {},
   "outputs": [],
   "source": [
    "# Predict sentiments probabilities\n",
    "yval_pred_probs = mynn_clasf.predict_proba(Xval)"
   ]
  },
  {
   "cell_type": "code",
   "execution_count": 125,
   "metadata": {},
   "outputs": [
    {
     "data": {
      "image/png": "[encoded data removed]",
      "text/plain": [
       "<Figure size 432x288 with 1 Axes>"
      ]
     },
     "metadata": {
      "needs_background": "light"
     },
     "output_type": "display_data"
    }
   ],
   "source": [
    "ffnn_roc_curve_plot(yval, yval_pred_probs, pos_label=1)"
   ]
  },
  {
   "cell_type": "code",
   "execution_count": 126,
   "metadata": {},
   "outputs": [
    {
     "name": "stdout",
     "output_type": "stream",
     "text": [
      "              precision    recall  f1-score   support\n",
      "\n",
      "           0       0.68      0.07      0.12       724\n",
      "           1       0.53      0.97      0.68       776\n",
      "\n",
      "    accuracy                           0.53      1500\n",
      "   macro avg       0.60      0.52      0.40      1500\n",
      "weighted avg       0.60      0.53      0.41      1500\n",
      "\n"
     ]
    }
   ],
   "source": [
    "# Get predicted labels and show classification report\n",
    "yval_pred_ = np.argmax(yval_pred_probs,axis=1)\n",
    "print(classification_report(yval,yval_pred_))"
   ]
  },
  {
   "cell_type": "code",
   "execution_count": 94,
   "metadata": {},
   "outputs": [],
   "source": [
    "# sum(yi==1 for yi in ypred)"
   ]
  },
  {
   "cell_type": "code",
   "execution_count": null,
   "metadata": {},
   "outputs": [],
   "source": [
    "# ytrain"
   ]
  },
  {
   "cell_type": "code",
   "execution_count": null,
   "metadata": {},
   "outputs": [],
   "source": [
    "# Xtrain_transf[4]"
   ]
  },
  {
   "cell_type": "code",
   "execution_count": null,
   "metadata": {},
   "outputs": [],
   "source": [
    "# count =0\n",
    "# for i in range(100):\n",
    "#     for j in range(100):\n",
    "#         if (Xtrain_transf[i] == Xtrain_transf[j]).all():\n",
    "#             count+=1\n",
    "\n",
    "# print(count)"
   ]
  },
  {
   "cell_type": "code",
   "execution_count": null,
   "metadata": {},
   "outputs": [],
   "source": [
    "# loss = nn.CrossEntropyLoss()\n",
    "# input = torch.randn(3, 5, requires_grad=True)\n",
    "# target = torch.empty(3, dtype=torch.long).random_(5)\n",
    "# output = loss(input, target)\n",
    "# output.backward()"
   ]
  },
  {
   "cell_type": "code",
   "execution_count": null,
   "metadata": {},
   "outputs": [],
   "source": []
  }
 ],
 "metadata": {
  "kernelspec": {
   "display_name": "Python 3",
   "language": "python",
   "name": "python3"
  },
  "language_info": {
   "codemirror_mode": {
    "name": "ipython",
    "version": 3
   },
   "file_extension": ".py",
   "mimetype": "text/x-python",
   "name": "python",
   "nbconvert_exporter": "python",
   "pygments_lexer": "ipython3",
   "version": "3.8.5"
  }
 },
 "nbformat": 4,
 "nbformat_minor": 4
}
