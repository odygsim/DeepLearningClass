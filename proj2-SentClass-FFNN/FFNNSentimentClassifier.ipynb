{
 "cells": [
  {
   "cell_type": "code",
   "execution_count": 1,
   "metadata": {},
   "outputs": [],
   "source": [
    "%config IPCompleter.greedy=True"
   ]
  },
  {
   "cell_type": "code",
   "execution_count": 2,
   "metadata": {},
   "outputs": [],
   "source": [
    "#######################################################################################\n",
    "#   Import Libraries needed\n",
    "#######################################################################################\n",
    "\n",
    "from sklearn.feature_extraction.text import ENGLISH_STOP_WORDS\n",
    "from sklearn.feature_extraction.text import CountVectorizer\n",
    "from sklearn.metrics import classification_report\n",
    "from sklearn import preprocessing\n",
    "import pandas as pd\n",
    "import numpy as np\n",
    "from os import path\n",
    "import time\n",
    "import gdown"
   ]
  },
  {
   "cell_type": "code",
   "execution_count": 3,
   "metadata": {},
   "outputs": [
    {
     "name": "stdout",
     "output_type": "stream",
     "text": [
      "Wall time: 2.63 s\n"
     ]
    }
   ],
   "source": [
    "#######################################################################################\n",
    "#   Load Training Dataset\n",
    "#######################################################################################\n",
    "tinit = time.time()\n",
    "\n",
    "# read train data set\n",
    "# url = 'https://drive.google.com/file/d/1dTIWNpjlrnTQBIQtaGOh0jCRYZiAQO79/view?usp=sharing'\n",
    "# path = 'https://drive.google.com/uc?export=download&id='+url.split('/')[-2]\n",
    "# output = \"twitterData.csv\"\n",
    "# gdown.download(path, output, quiet=False)\n",
    "%time twitter_data = pd.read_csv(\"../data/twitterData.csv\")"
   ]
  },
  {
   "cell_type": "code",
   "execution_count": 4,
   "metadata": {},
   "outputs": [
    {
     "data": {
      "text/html": [
       "<div>\n",
       "<style scoped>\n",
       "    .dataframe tbody tr th:only-of-type {\n",
       "        vertical-align: middle;\n",
       "    }\n",
       "\n",
       "    .dataframe tbody tr th {\n",
       "        vertical-align: top;\n",
       "    }\n",
       "\n",
       "    .dataframe thead th {\n",
       "        text-align: right;\n",
       "    }\n",
       "</style>\n",
       "<table border=\"1\" class=\"dataframe\">\n",
       "  <thead>\n",
       "    <tr style=\"text-align: right;\">\n",
       "      <th></th>\n",
       "      <th>Unnamed: 0</th>\n",
       "      <th>target</th>\n",
       "      <th>id</th>\n",
       "      <th>date</th>\n",
       "      <th>flag</th>\n",
       "      <th>user</th>\n",
       "      <th>text</th>\n",
       "    </tr>\n",
       "  </thead>\n",
       "  <tbody>\n",
       "    <tr>\n",
       "      <th>0</th>\n",
       "      <td>680949</td>\n",
       "      <td>0</td>\n",
       "      <td>2249621587</td>\n",
       "      <td>Fri Jun 19 22:41:08 PDT 2009</td>\n",
       "      <td>NO_QUERY</td>\n",
       "      <td>sukumarpant</td>\n",
       "      <td>#brokenpromises...</td>\n",
       "    </tr>\n",
       "    <tr>\n",
       "      <th>1</th>\n",
       "      <td>406741</td>\n",
       "      <td>0</td>\n",
       "      <td>2059003515</td>\n",
       "      <td>Sat Jun 06 16:03:21 PDT 2009</td>\n",
       "      <td>NO_QUERY</td>\n",
       "      <td>MTMSparrow</td>\n",
       "      <td>David Carradine  so sad. Thai's law not sure i...</td>\n",
       "    </tr>\n",
       "    <tr>\n",
       "      <th>2</th>\n",
       "      <td>1337108</td>\n",
       "      <td>4</td>\n",
       "      <td>2017466467</td>\n",
       "      <td>Wed Jun 03 08:26:14 PDT 2009</td>\n",
       "      <td>NO_QUERY</td>\n",
       "      <td>itsmemcee</td>\n",
       "      <td>A @ 415 B @ 425. Tell your bro i say congrats!</td>\n",
       "    </tr>\n",
       "    <tr>\n",
       "      <th>3</th>\n",
       "      <td>1560887</td>\n",
       "      <td>4</td>\n",
       "      <td>2186457254</td>\n",
       "      <td>Mon Jun 15 18:52:04 PDT 2009</td>\n",
       "      <td>NO_QUERY</td>\n",
       "      <td>jdfreivald</td>\n",
       "      <td>@littlefluffycat  Indeed.</td>\n",
       "    </tr>\n",
       "    <tr>\n",
       "      <th>4</th>\n",
       "      <td>1466295</td>\n",
       "      <td>4</td>\n",
       "      <td>2064458395</td>\n",
       "      <td>Sun Jun 07 06:19:20 PDT 2009</td>\n",
       "      <td>NO_QUERY</td>\n",
       "      <td>CrazyHan</td>\n",
       "      <td>Completed Race 4 Life in 58mins with girlies f...</td>\n",
       "    </tr>\n",
       "  </tbody>\n",
       "</table>\n",
       "</div>"
      ],
      "text/plain": [
       "   Unnamed: 0  target          id                          date      flag  \\\n",
       "0      680949       0  2249621587  Fri Jun 19 22:41:08 PDT 2009  NO_QUERY   \n",
       "1      406741       0  2059003515  Sat Jun 06 16:03:21 PDT 2009  NO_QUERY   \n",
       "2     1337108       4  2017466467  Wed Jun 03 08:26:14 PDT 2009  NO_QUERY   \n",
       "3     1560887       4  2186457254  Mon Jun 15 18:52:04 PDT 2009  NO_QUERY   \n",
       "4     1466295       4  2064458395  Sun Jun 07 06:19:20 PDT 2009  NO_QUERY   \n",
       "\n",
       "          user                                               text  \n",
       "0  sukumarpant                                #brokenpromises...   \n",
       "1   MTMSparrow  David Carradine  so sad. Thai's law not sure i...  \n",
       "2    itsmemcee    A @ 415 B @ 425. Tell your bro i say congrats!   \n",
       "3   jdfreivald                          @littlefluffycat  Indeed.  \n",
       "4     CrazyHan  Completed Race 4 Life in 58mins with girlies f...  "
      ]
     },
     "execution_count": 4,
     "metadata": {},
     "output_type": "execute_result"
    }
   ],
   "source": [
    "# Check form of data\n",
    "twitter_data.head()"
   ]
  },
  {
   "cell_type": "code",
   "execution_count": 5,
   "metadata": {},
   "outputs": [],
   "source": [
    "# Set part of dataset to be transformed\n",
    "twitter_data_subset = twitter_data  #[0:200]"
   ]
  },
  {
   "cell_type": "code",
   "execution_count": 6,
   "metadata": {},
   "outputs": [],
   "source": [
    "#######################################################################################\n",
    "#   Text preprocessing and transformation of string labels to numeric\n",
    "#######################################################################################\n",
    "\n",
    "# Transform \"0 and 4\" categories to boolean for binary classification\n",
    "le = preprocessing.LabelEncoder()\n",
    "y = le.fit_transform(twitter_data_subset[\"target\"])\n",
    "y = np.reshape(y,(y.shape[0],1))\n",
    "# # Show the \"transformed\" categories\n",
    "# y = le.transform(twitter_data_subset[\"target\"])"
   ]
  },
  {
   "cell_type": "code",
   "execution_count": 7,
   "metadata": {},
   "outputs": [
    {
     "name": "stdout",
     "output_type": "stream",
     "text": [
      "Wall time: 11.2 s\n",
      "in argentina any can happen lol we miss u\n"
     ]
    }
   ],
   "source": [
    "### Preprocess tweets text before converting to numerical ###\n",
    "import re\n",
    "\n",
    "def preprocessText(x):\n",
    "    # Convert to lower case\n",
    "    x = str(x).lower()\n",
    "    # # Remove url links\n",
    "    x = re.sub(r'http\\S+', '', x)\n",
    "    # Remove @ tags refer to names of users\n",
    "    x = re.sub(r'\\S*@\\S+', '', x)    \n",
    "    # Remove underscores\n",
    "    x = re.sub(r'_', ' ', x)\n",
    "    # remove special chars\n",
    "    x = re.sub(r'[^\\w ]+', \"\", x)\n",
    "    x = ' '.join(x.split())\n",
    "    if x == '': x = 'unk'\n",
    "    return x\n",
    "\n",
    "# Preprocess tweets text\n",
    "%time twitter_data_subset['text'] = twitter_data_subset['text'].apply(lambda x: preprocessText(x))\n",
    "print(twitter_data_subset['text'].iloc[1000])\n",
    "\n",
    "# txt = \" ss@notoriuS : we LOVE you all______  -&^%+** of lollll ---in Argentina odygsim@gmail.com!!!\"\n",
    "# protxt = preprocessText(txt)\n",
    "# print(protxt)\n"
   ]
  },
  {
   "cell_type": "code",
   "execution_count": 8,
   "metadata": {},
   "outputs": [],
   "source": [
    "# Pick sentiments to transform to vectors\n",
    "X = twitter_data_subset['text'].to_numpy()"
   ]
  },
  {
   "cell_type": "code",
   "execution_count": 9,
   "metadata": {},
   "outputs": [],
   "source": [
    "# Select the part of the dataset to use if it is very large\n",
    "Xsel = X[:10000] #reshape(len(Xsel),1)\n",
    "ysel = np.squeeze(y[:10000]) #[1:10000].copy()"
   ]
  },
  {
   "cell_type": "code",
   "execution_count": 10,
   "metadata": {},
   "outputs": [],
   "source": [
    "import numpy as np\n",
    "from sklearn.base import BaseEstimator, TransformerMixin\n",
    "from sklearn.utils.validation import check_X_y, check_array, check_is_fitted\n",
    "from sklearn.utils.multiclass import unique_labels\n",
    "from sklearn.metrics import euclidean_distances\n",
    "from tqdm import tqdm # for progressbar\n",
    "\n",
    "import spacy\n",
    "from spacy.tokens import Doc\n",
    "\n",
    "class TextToEmbeddingsTransformer(TransformerMixin, BaseEstimator):\n",
    "    \"\"\" A transformer that returns the sentence embedding based on word embeddings\n",
    "    produced by spacy library (GloVe embeddings based)\n",
    "    Parameters\n",
    "    ----------\n",
    "    demo_param : str, default='demo'\n",
    "        A parameter used for demonstation of how to pass and store paramters.\n",
    "    Attributes\n",
    "    ----------\n",
    "    n_features_ : int\n",
    "        The number of features of the data passed to :meth:`fit`.\n",
    "    \"\"\"\n",
    "    def __init__(self, embeddingCalculator='average', \n",
    "                 wordEmbeddingsDict={},\n",
    "                 temporaryEmbeddingsFile='',\n",
    "                 vocabulary=\"en_core_web_sm\"):\n",
    "        \n",
    "        self.embeddingCalculator = embeddingCalculator\n",
    "        self.temporaryEmbeddingsFile = temporaryEmbeddingsFile # 'vecsfile.npy'\n",
    "        self.vocabulary = vocabulary\n",
    "        self.nlp = spacy.load(vocabulary)\n",
    "        self.embeddingsDict = wordEmbeddingsDict\n",
    "\n",
    "    def fit(self, X, y=None):\n",
    "        \"\"\" Setting the data (X) to being transformed\n",
    "        Parameters\n",
    "        ----------\n",
    "        X : {array-like, sparse matrix}, shape (n_samples, n_features)\n",
    "            The transformer input samples.\n",
    "        y : None\n",
    "\n",
    "        Returns\n",
    "        -------\n",
    "        self : object\n",
    "            Returns self.\n",
    "        \"\"\"\n",
    "        # X = check_array(X, accept_sparse=True)\n",
    "\n",
    "        self.n_features_ = X.shape[0]\n",
    "\n",
    "        # Return the transformer\n",
    "        return self\n",
    "\n",
    "    def transform(self, X):\n",
    "        \"\"\" Takes the input data text (each row is a sentence consisted of words)\n",
    "        and uses spacy's nlp to turn each word to an embedding. Then it uses the\n",
    "        'average','max' or 'min' according to user's preference to outcome the sentence\n",
    "        embedding based on the word embeddings\n",
    "        Parameters\n",
    "        ----------\n",
    "        X : {array-like, sparse-matrix}, shape (n_samples, n_features)\n",
    "            The transforme input samples.\n",
    "        Returns\n",
    "        -------\n",
    "        X_transformed : array, shape (n_samples, n_features)\n",
    "            The array containing the sentence embedding of each sentence\n",
    "            in ``X``.\n",
    "        \"\"\"\n",
    "        # Check is fit had been called\n",
    "        check_is_fitted(self, 'n_features_')\n",
    "\n",
    "        # # Input validation\n",
    "#       # X = check_array(X, accept_sparse=True)\n",
    "\n",
    "        # Check that the input is of the same shape as the one passed\n",
    "        # during fit.\n",
    "        if X.shape[0] != self.n_features_:\n",
    "            raise ValueError('Shape of input is different from what was seen'\n",
    "                             'in `fit`')\n",
    "        \n",
    "        # Set dictionary to be used\n",
    "        embeddingsDict = self.embeddingsDict\n",
    "\n",
    "        \n",
    "        # Calculate X dataset embeddings or load from file\n",
    "        if self.temporaryEmbeddingsFile != '' :\n",
    "            \n",
    "            print('Loading embedding vectors from file : ' + self.temporaryEmbeddingsFile)\n",
    "            Xtrans = np.load(self.temporaryEmbeddingsFile, allow_pickle=True)\n",
    "        \n",
    "        # Case having an embeddings dictionary\n",
    "        elif len(self.embeddingsDict)> 0 :\n",
    "            \n",
    "            # Select the sentence embedding calculation method from word embeddings\n",
    "            if self.embeddingCalculator == 'min':\n",
    "                vector_embedding = lambda singledoc: np.min(\n",
    "                    [ embeddingsDict[token] \n",
    "                     if token in embeddingsDict  \n",
    "                     else  embeddingsDict['unk'] \n",
    "                     for token in singledoc                    \n",
    "                    ],\n",
    "                         axis=0)\n",
    "            elif self.embeddingCalculator == 'max':\n",
    "                vector_embedding = lambda singledoc: np.max(\n",
    "                    [ embeddingsDict[token] \n",
    "                     if token in embeddingsDict \n",
    "                     else  embeddingsDict['unk']\n",
    "                     for token in singledoc\n",
    "                    ], axis=0)\n",
    "            else:\n",
    "                vector_embedding = lambda singledoc: np.mean(\n",
    "                    [ embeddingsDict[token] \n",
    "                     if token in embeddingsDict \n",
    "                     else  embeddingsDict['unk']\n",
    "                     for token in singledoc\n",
    "                    ], axis=0)\n",
    "                \n",
    "#             # Set it up as an extension\n",
    "#             if not Doc.has_extension('vector_except_stopwords'):\n",
    "#                 Doc.set_extension(\"vector_except_stopwords\", getter=vector_except_stopwords)\n",
    "            \n",
    "            # Calc sentences embeddings\n",
    "            XtransArray =[]\n",
    "            # Show progress bar\n",
    "            pbar = tqdm( total=len(X) )\n",
    "            pbar.clear()\n",
    "            \n",
    "            # Convert docs to vector embeddings\n",
    "            for doc in X:\n",
    "                XtransArray.append(vector_embedding(doc))\n",
    "                pbar.update(1)\n",
    "            \n",
    "            pbar.close()\n",
    "            \n",
    "            # Convert to numpy array\n",
    "            Xtrans = np.array(XtransArray)\n",
    "\n",
    "        # Case using spacy's embeddings\n",
    "        else:\n",
    "            \n",
    "            # Select the sentence embedding calculation method from word embeddings\n",
    "            if self.embeddingCalculator == 'min':\n",
    "                vector_except_stopwords = lambda singledoc: np.min(\n",
    "                    [token.vector for token in singledoc if not token.is_stop ], axis=0)\n",
    "            elif self.embeddingCalculator == 'max':\n",
    "                vector_except_stopwords = lambda singledoc: np.max(\n",
    "                    [token.vector for token in singledoc if not token.is_stop], axis=0)\n",
    "            else:\n",
    "                vector_except_stopwords = lambda singledoc: np.mean(\n",
    "                    [token.vector for token in singledoc if not token.is_stop], axis=0)\n",
    "                \n",
    "            # Set it up as an extension\n",
    "            if not Doc.has_extension('vector_except_stopwords'):\n",
    "                Doc.set_extension(\"vector_except_stopwords\", getter=vector_except_stopwords)\n",
    "            \n",
    "            # Calc sentences embeddings\n",
    "            XtransArray =[]\n",
    "            for doc in self.nlp.pipe(X):\n",
    "                XtransArray.append(doc._.vector_except_stopwords)\n",
    "            \n",
    "            # Convert to numpy array\n",
    "            Xtrans = np.array(XtransArray)\n",
    "            \n",
    "        return Xtrans\n"
   ]
  },
  {
   "cell_type": "code",
   "execution_count": 11,
   "metadata": {},
   "outputs": [],
   "source": [
    "from sklearn.feature_extraction.text import CountVectorizer\n",
    "from sklearn.feature_extraction.text import TfidfVectorizer\n",
    "def build_vector_model(mode='count'):\n",
    "    if mode == 'count':\n",
    "        transformer = CountVectorizer()\n",
    "        method = 'count'\n",
    "    if mode == 'tfidf':\n",
    "        transformer =  TfidfVectorizer()\n",
    "        method = 'tfidf'\n",
    "    if mode == 'word_embeddings':\n",
    "        transformer = TextToEmbeddingsTransformer(wordEmbeddingsDict=glove_embedding)\n",
    "        method = 'wordembed'\n",
    "    \n",
    "    print('Using text transformation : ', method)\n",
    "    return transformer"
   ]
  },
  {
   "cell_type": "code",
   "execution_count": 12,
   "metadata": {},
   "outputs": [
    {
     "name": "stdout",
     "output_type": "stream",
     "text": [
      "Wall time: 4.29 s\n",
      "Wall time: 4.44 s\n"
     ]
    }
   ],
   "source": [
    "# Load glove embeddings into dictionary\n",
    "%time glove = pd.read_csv('..\\data\\glove.6B\\glove.6B.100d.txt', sep=\" \", quoting=3, header=None, index_col=0)\n",
    "%time glove_embedding = {key: val.values for key, val in glove.T.items()}"
   ]
  },
  {
   "cell_type": "code",
   "execution_count": 13,
   "metadata": {
    "scrolled": true
   },
   "outputs": [
    {
     "name": "stderr",
     "output_type": "stream",
     "text": [
      " 19%|██████████████▏                                                           | 1922/10000 [00:00<00:00, 19080.00it/s]"
     ]
    },
    {
     "name": "stdout",
     "output_type": "stream",
     "text": [
      "Using text transformation :  wordembed\n"
     ]
    },
    {
     "name": "stderr",
     "output_type": "stream",
     "text": [
      "100%|█████████████████████████████████████████████████████████████████████████| 10000/10000 [00:00<00:00, 19114.42it/s]\n"
     ]
    }
   ],
   "source": [
    "# Pick transformer\n",
    "# model_pipeline = build_vector_model(mode='word_embeddings')\n",
    "model_pipeline = build_vector_model(mode='word_embeddings')\n",
    "# Tranform to vectors\n",
    "Xsel_transf = model_pipeline.fit_transform(Xsel,ysel)\n",
    "# Xval_transf = model_pipeline.fit_transform(Xval,yval)"
   ]
  },
  {
   "cell_type": "code",
   "execution_count": 14,
   "metadata": {},
   "outputs": [],
   "source": [
    "# Split dataset to train/validation/test set in order\n",
    "# not to overfit classifiers hyperparameters\n",
    "\n",
    "from sklearn.model_selection import train_test_split\n",
    "\n",
    "# Split the train dataset in two equal parts : train_gs , test_gs\n",
    "# to use in gridsearch for training/testing\n",
    "Xtrain, Xtotaltest, ytrain, ytotaltest = train_test_split(\n",
    "    Xsel_transf, ysel, test_size=0.3, random_state=42, shuffle=True, stratify=ysel)\n",
    "Xval, Xtest, yval, ytest = train_test_split(\n",
    "    Xtotaltest, ytotaltest, test_size=0.5, random_state=42, shuffle=True, stratify=ytotaltest)"
   ]
  },
  {
   "cell_type": "code",
   "execution_count": 15,
   "metadata": {},
   "outputs": [],
   "source": [
    "# ysel = np.squeeze(ysel)\n",
    "# print(ysel)\n",
    "# glove_embedding['.']"
   ]
  },
  {
   "cell_type": "code",
   "execution_count": 16,
   "metadata": {},
   "outputs": [],
   "source": [
    "# singledoc = ['bill', 'big']\n",
    "# # testy = np.min([ glove_embedding[token] \n",
    "# #                 if (token in glove_embedding and not token == 'not')\n",
    "# #                 else glove_embedding['unknown'] \n",
    "# #                 for token in singledoc ], axis=0)\n",
    "\n",
    "# testy2 = np.min([ glove_embedding[token] \n",
    "#                      if token in glove_embedding and not token == 'big'\n",
    "#                      else  glove_embedding['unknown']  \n",
    "#                  for token in singledoc                 \n",
    "#                     ], axis=0)\n",
    "# # print(glove_embedding['unknown'])\n",
    "# print(glove_embedding['big'])\n",
    "# print(glove_embedding['bill'])\n",
    "# print(glove_embedding['unknown'])\n",
    "# # print(glove_embedding['nurse'])\n",
    "# print(testy)\n",
    "# if testy.all() == glove_embedding['unknown'].all():\n",
    "#     print('yes')\n",
    "# else:\n",
    "#     print('no')"
   ]
  },
  {
   "cell_type": "code",
   "execution_count": 17,
   "metadata": {},
   "outputs": [],
   "source": [
    "# doc = Xtrain[2]\n",
    "# vector_except_stopwords = lambda singledoc: np.mean(\n",
    "#     [ glove_embedding[token] \n",
    "#      if token in glove_embedding and not token=='big'\n",
    "#      else  glove_embedding['unk']\n",
    "#      for token in singledoc\n",
    "#     ], axis=0)\n",
    "# vector_except_stopwords(doc)"
   ]
  },
  {
   "cell_type": "code",
   "execution_count": 18,
   "metadata": {},
   "outputs": [],
   "source": [
    "# with open('fullTransformedSentiments.npy', 'wb') as f:\n",
    "#     np.save(f, np.array(Xtransf))"
   ]
  },
  {
   "cell_type": "code",
   "execution_count": 19,
   "metadata": {},
   "outputs": [],
   "source": [
    "# Xtrain_transf[100]"
   ]
  },
  {
   "cell_type": "code",
   "execution_count": 20,
   "metadata": {},
   "outputs": [],
   "source": [
    "# Xtransf[0].shape\n"
   ]
  },
  {
   "cell_type": "code",
   "execution_count": 21,
   "metadata": {},
   "outputs": [],
   "source": [
    "# # zeroarray =[]\n",
    "# # for i in range(len(X)):\n",
    "# #     if len(X[i])== 0:\n",
    "# #         zeroarray.append(i)\n",
    "# # X[zeroarray[2]]\n",
    "# twitter_data.iloc[zeroarray[1078]]"
   ]
  },
  {
   "cell_type": "code",
   "execution_count": 22,
   "metadata": {},
   "outputs": [],
   "source": [
    "# glove_embedding['unk']"
   ]
  },
  {
   "cell_type": "code",
   "execution_count": 23,
   "metadata": {},
   "outputs": [],
   "source": [
    "# ysel.shape[0]"
   ]
  },
  {
   "cell_type": "code",
   "execution_count": 24,
   "metadata": {},
   "outputs": [],
   "source": [
    "# import torch\n",
    "# def describe(x):\n",
    "#     print(\"Type: {}\".format(x.type()))\n",
    "#     print(\"Shape/size: {}\".format(x.shape))\n",
    "#     print(\"Values: \\n{}\".format(x))\n",
    "\n",
    "# batch_size = 12\n",
    "# input_dim = 1000    \n",
    "# x_input = torch.rand(batch_size, input_dim)\n",
    "# describe(x_input)"
   ]
  },
  {
   "cell_type": "code",
   "execution_count": 25,
   "metadata": {},
   "outputs": [],
   "source": [
    "# from tempfile import TemporaryFile\n",
    "# vecsfile = TemporaryFile()\n",
    "# np.save(vecsfile, vecs)\n",
    "\n",
    "# with open('vecsfile.npy', 'wb') as f:\n",
    "#     np.save(f, np.array(vecs))\n",
    "    \n",
    "# # _ = vecsfile.seek(0)\n",
    "# import numpy as np\n",
    "# testy = np.load('vecsfile.npy',allow_pickle=True)\n",
    "#\n",
    "# # pd.DataFrame(np.asarray(vecs)).to_csv('textvecs.csv')"
   ]
  },
  {
   "cell_type": "code",
   "execution_count": 26,
   "metadata": {},
   "outputs": [],
   "source": [
    "# import numpy as np\n",
    "# df['sent_vectors'] = df['tokenized'].apply(\n",
    "#   lambda sent: np.mean([token.vector for token in sent if not token.is_stop], axis=0)\n",
    "# )\n",
    "# #     lambda sent: sent.vector)\n",
    "# df['sent_vectors']\n",
    "\n",
    "# # df = train_data.copy()[1:2000]\n",
    "# # df['tokenized']= df['text'].apply(sp)"
   ]
  },
  {
   "cell_type": "code",
   "execution_count": 27,
   "metadata": {},
   "outputs": [],
   "source": [
    "import torch.nn as nn\n",
    "import torch.nn.functional as F\n",
    "import torch.optim as optim\n",
    "import torch\n",
    "\n",
    "# # Use cuda if present\n",
    "# device = \"cpu\"\n",
    "# if torch.cuda.is_available():\n",
    "#     device = \"cuda:0\"\n",
    "#     if torch.cuda.device_count() > 1:\n",
    "#         net = nn.DataParallel(net)\n",
    "# net.to(device)\n",
    "\n",
    "# device = torch.device(\"cuda\" if torch.cuda.is_available() else \"cpu\")\n",
    "# print(\"Device available for running: \")\n",
    "# print(device)"
   ]
  },
  {
   "cell_type": "code",
   "execution_count": 28,
   "metadata": {},
   "outputs": [],
   "source": [
    "class FeedforwardNeuralNetModel(nn.Module):\n",
    "    def __init__(self, input_dim, output_dim, hidden_layers, activation_function):\n",
    "        super(FeedforwardNeuralNetModel, self).__init__()\n",
    "        \n",
    "        self.fc = nn.ModuleList()\n",
    "        self.activF = nn.ModuleList()\n",
    "        self.hidden_layers = hidden_layers\n",
    "        \n",
    "        # Get hidden layers number\n",
    "        hidden_dims =  hidden_layers['hidden_layers_dims']\n",
    "        hidden_layers_no = hidden_layers['hidden_layers_no']\n",
    "        \n",
    "        # Create a hidden layer for each\n",
    "        for hidden_layer in range( hidden_layers_no ) :      \n",
    "            \n",
    "            if ( hidden_layer == 0) : # Case of input to 1st hidden layer\n",
    "                self.fc.append( nn.Linear(input_dim, hidden_dims[hidden_layer]) )\n",
    "                # Non-linearity\n",
    "                self.activF.append( nn.ReLU() )\n",
    "            elif (hidden_layer == hidden_layers_no-1): # Case intermediate hidden layer\n",
    "                self.fc.append( nn.Linear(hidden_dims[hidden_layer-1], output_dim) )\n",
    "                # Non-linearity\n",
    "                self.activF.append( nn.ReLU() )\n",
    "            else: # Case last hidden layer to output\n",
    "                self.fc.append( nn.Linear(hidden_dims[hidden_layer-1], hidden_dims[hidden_layer]) )\n",
    "                # Non-linearity\n",
    "                self.activF.append( nn.ReLU() ) \n",
    "\n",
    "    def forward(self, x):\n",
    "        out = x\n",
    "        # Forward pass all hidden layers with activation functions\n",
    "        for layer in range(self.hidden_layers['hidden_layers_no']):\n",
    "            # Linear function\n",
    "            out = self.fc[layer](out)\n",
    "            # Activation function\n",
    "            out = self.activF[layer](out)\n",
    "        \n",
    "        # Return the softmax\n",
    "        out = F.softmax(out, dim=1)\n",
    "        \n",
    "        return out\n",
    "    "
   ]
  },
  {
   "cell_type": "code",
   "execution_count": 29,
   "metadata": {},
   "outputs": [],
   "source": [
    "from torch.utils.data import Dataset, DataLoader\n",
    "from torch import from_numpy, tensor\n",
    "import numpy as np\n",
    "\n",
    "class sentimentsDataset(Dataset):\n",
    "    # Initialize your data, download, etc.\n",
    "    def __init__(self, X, y):\n",
    "        self.len = X.shape[0]\n",
    "#         print(X[15,638], X[15,792], X[15,793], X[15,878])\n",
    "        self.x_data = torch.from_numpy(X) #.to_sparse() #0:-1]) #.to_sparse() \n",
    "#         print(self.x_data[15,638], self.x_data[15,792], self.x_data[15,793], self.x_data[15,878])\n",
    "        self.y_data = torch.from_numpy(y) #.to_sparse() #) #.to_sparse()\n",
    "    def __getitem__(self, index):\n",
    "        return self.x_data[index], self.y_data[index]\n",
    "\n",
    "    def __len__(self):\n",
    "        return self.len\n",
    "\n",
    "class sentimentsPredictionsDataset(Dataset):\n",
    "    # Initialize your data, download, etc.\n",
    "    def __init__(self, X, y):\n",
    "        self.len = X.shape[0]\n",
    "        self.x_data = torch.from_numpy(X)\n",
    "        self.y_data = torch.from_numpy(y)\n",
    "    def __getitem__(self, index):\n",
    "        return self.x_data[index],self.y_data[index]\n",
    "\n",
    "    def __len__(self):\n",
    "        return self.len"
   ]
  },
  {
   "cell_type": "code",
   "execution_count": null,
   "metadata": {},
   "outputs": [],
   "source": []
  },
  {
   "cell_type": "code",
   "execution_count": 181,
   "metadata": {},
   "outputs": [
    {
     "ename": "SyntaxError",
     "evalue": "cannot assign to function call (<ipython-input-181-943c469486f7>, line 242)",
     "output_type": "error",
     "traceback": [
      "\u001b[1;36m  File \u001b[1;32m\"<ipython-input-181-943c469486f7>\"\u001b[1;36m, line \u001b[1;32m242\u001b[0m\n\u001b[1;33m    self.optimizer_() = optim.Adam()\u001b[0m\n\u001b[1;37m    ^\u001b[0m\n\u001b[1;31mSyntaxError\u001b[0m\u001b[1;31m:\u001b[0m cannot assign to function call\n"
     ]
    }
   ],
   "source": [
    "from sklearn.base import ClassifierMixin\n",
    "from sklearn.base import BaseEstimator\n",
    "from sklearn import metrics\n",
    "import matplotlib.pyplot as plt \n",
    "from tqdm import tqdm # for progressbar\n",
    "import torch.nn as nn\n",
    "import torch.nn.functional as F\n",
    "import torch.optim as optim\n",
    "import torch\n",
    "class FeedForwardNNClassifier(ClassifierMixin, BaseEstimator):\n",
    "    \"\"\" A classifier which implements a feed forward neural net algorithm\n",
    "    for sentiment analysis.\n",
    "    Parameters\n",
    "    ----------\n",
    "    demo_param : str, default='demo'\n",
    "        A parameter used for demonstation of how to pass and store paramters.\n",
    "    Attributes\n",
    "    ----------\n",
    "    X_ : ndarray, shape (n_samples, n_features)\n",
    "        The input passed during :meth:`fit`.\n",
    "    y_ : ndarray, shape (n_samples,)\n",
    "        The labels passed during :meth:`fit`.\n",
    "    classes_ : ndarray, shape (n_classes,)\n",
    "        The classes seen at :meth:`fit`.\n",
    "    \"\"\"\n",
    "    def __init__(self, output_dim=2, num_epochs=10, \n",
    "                 hidden_layers={'hidden_layers_no' : 2, 'hidden_layers_dims': [50, 50]},\n",
    "                 activation_function = 'ReLU', loss_function='CrossEntropy', \n",
    "                 optimizer='SGD', learning_rate=0.005, batch_size=32,\n",
    "                 plot_loss=False\n",
    "                ):\n",
    "        \n",
    "        # Set the NN model dimension parameters and initialize FFFNN\n",
    "        self.output_dim = output_dim\n",
    "        self.hidden_layers = hidden_layers\n",
    "        self.num_epochs = num_epochs\n",
    "        self.train_loss = []\n",
    "        self.plot_loss = plot_loss\n",
    "        self.learning_rate = learning_rate\n",
    "        self.batch_size = batch_size\n",
    "        self.optimizer = optimizer\n",
    "        self.activation_function = activation_function\n",
    "        self.loss_function = loss_function\n",
    "        \n",
    "    def fit(self, X, y):\n",
    "        \"\"\"A reference implementation of a fitting function for a classifier.\n",
    "        Parameters\n",
    "        ----------\n",
    "        X : array-like, shape (n_samples, n_features)\n",
    "            The training input samples.\n",
    "        y : array-like, shape (n_samples,)\n",
    "            The target values. An array of int.\n",
    "        Returns\n",
    "        -------\n",
    "        self : object\n",
    "            Returns self.\n",
    "        \"\"\"\n",
    "        \n",
    "        # # Sparse matrix check\n",
    "        # scipy.sparse.issparse(my_matrix)\n",
    "        \n",
    "        # Check that X and y have correct shape\n",
    "        X, y = check_X_y(X, y)\n",
    "        # Store the classes seen during fit\n",
    "        self.classes_ = unique_labels(y)\n",
    "        # Store dataset, labels\n",
    "        self.X_ = X\n",
    "        self.y_ = y\n",
    "        \n",
    "        # Get X dataset input features dimension\n",
    "        self.input_dim = self.X_[0].shape[0]\n",
    "        \n",
    "        # Set NN activation function and loss function\n",
    "        self.set_nn_specifics()\n",
    "        \n",
    "        # Initialize FF neural net model\n",
    "        self.ffnn = FeedforwardNeuralNetModel(input_dim=self.input_dim, \n",
    "                                              output_dim=self.output_dim, \n",
    "                                              hidden_layers=self.hidden_layers)\n",
    "        \n",
    "        # Set an optimizer\n",
    "        self.set_nn_optim()\n",
    "        \n",
    "        # Use cuda if present\n",
    "        self.device = \"cpu\"\n",
    "        if torch.cuda.is_available():\n",
    "            self.device = \"cuda:0\"\n",
    "            if torch.cuda.device_count() > 1:\n",
    "                self.ffnn = nn.DataParallel(self.ffnn)\n",
    "        self.ffnn.to(self.device)\n",
    "        print(self.device)\n",
    "        \n",
    "        \n",
    "        # Create dataset and dataloader for use from pytorch\n",
    "        self.dataset = sentimentsDataset(self.X_,self.y_)\n",
    "        self.train_loader = DataLoader(dataset=self.dataset, \n",
    "                          batch_size=self.batch_size,\n",
    "                          shuffle=True)\n",
    "        \n",
    "        # Initialize train loss array\n",
    "        self.train_loss=[]\n",
    "        \n",
    "        # Start training\n",
    "        for epoch in tqdm( range(self.num_epochs) ):\n",
    "            \n",
    "            # Initialize training loss and start keeping record\n",
    "            train_loss = 0\n",
    "            \n",
    "            # Loop over dataset batches\n",
    "            for index, data in enumerate(self.train_loader, 0) :\n",
    "\n",
    "                # Get data\n",
    "                inputs, labels = data\n",
    "\n",
    "                # Wrap them in Variable\n",
    "                inputs, labels = inputs.to(self.device), labels.to(self.device)\n",
    "\n",
    "                # Clearing the accumulated gradients\n",
    "                self.optimizer_.zero_grad()\n",
    "\n",
    "                # Forward pass to get output\n",
    "                preds = self.ffnn.forward(inputs.float())\n",
    "\n",
    "                # Calculate Loss: softmax --> cross entropy loss\n",
    "                loss = self.loss_function_(preds, labels)\n",
    "                \n",
    "                # Accumulating the loss over time\n",
    "                train_loss += loss.item()\n",
    "\n",
    "                # Getting gradients w.r.t. parameters\n",
    "                loss.backward()\n",
    "\n",
    "                # Updating parameters\n",
    "                self.optimizer_.step()\n",
    "                \n",
    "                # # Write loss in file\n",
    "                # f.write(str((epoch+1)) + \",\" + str(train_loss / Xtrain.shape[0]))\n",
    "                # f.write('\\n')\n",
    "        \n",
    "            # Keep train loss per epoch for plotting purposes\n",
    "            self.train_loss.append(train_loss/self.X_.shape[0])\n",
    "            \n",
    "        # Print loss of epoch\n",
    "        print(train_loss)\n",
    "        # Plot train loss if set\n",
    "        if self.plot_loss: self.train_loss_plot()\n",
    "        \n",
    "        # Return the classifier\n",
    "        return self\n",
    "\n",
    "    def predict(self, X):\n",
    "        \"\"\" A reference implementation of a prediction for a classifier.\n",
    "        Parameters\n",
    "        ----------\n",
    "        X : array-like, shape (n_samples, n_features)\n",
    "            The input samples.\n",
    "        Returns\n",
    "        -------\n",
    "        y : ndarray, shape (n_samples,)\n",
    "            The label for each sample is the label of the closest sample\n",
    "            seen during fit.\n",
    "        \"\"\"\n",
    "        \n",
    "        # Get classes prediction probabilities\n",
    "        ypred_probs = self.predict_proba(X)\n",
    "        # Return the prevailing class (argmax)\n",
    "        ypred = np.argmax(ypred_probs, axis=1)\n",
    "\n",
    "        return ypred\n",
    "\n",
    "    def predict_proba(self, X):\n",
    "        \"\"\" A reference implementation of a prediction for a classifier.\n",
    "        Parameters\n",
    "        ----------\n",
    "        X : array-like, shape (n_samples, n_features)\n",
    "            The input samples.\n",
    "        Returns\n",
    "        -------\n",
    "        y : ndarray, shape (n_samples,)\n",
    "            The label for each sample is the probability of each class\n",
    "        \"\"\"\n",
    "        # Check is fit had been called\n",
    "        check_is_fitted(self, ['X_', 'y_'])\n",
    "\n",
    "        # Input validation\n",
    "#         X = check_array(X)\n",
    "        # Dummy y labels\n",
    "        y = np.random.randint(2,size=X.shape[0]) #.astype(float)\n",
    "\n",
    "        # Create dataset and dataloader for use from pytorch\n",
    "        pred_dataset = sentimentsPredictionsDataset(X, y)\n",
    "        pred_loader = DataLoader(dataset=pred_dataset,\n",
    "                          batch_size=self.batch_size,\n",
    "                          shuffle=False)\n",
    "\n",
    "        # Loop over all samples\n",
    "        for index, data in enumerate(pred_loader, 0):\n",
    "            # Get data\n",
    "            predInputs, predLabels = data\n",
    "\n",
    "            # Wrap them in Variable\n",
    "            predInputs, predLabels = predInputs.to(self.device), predLabels.to(self.device)\n",
    "\n",
    "            # Forward pass to get output\n",
    "            preds = self.ffnn.forward(predInputs.float())\n",
    "        \n",
    "            if index == 0 :\n",
    "                ypred_probs = preds.detach().numpy()\n",
    "            else:\n",
    "                ypred_probs = np.vstack( ( ypred_probs, preds.detach().numpy() ) )\n",
    "\n",
    "        return ypred_probs\n",
    "    \n",
    "    def set_nn_optim(self):\n",
    "        # Select the optimizer\n",
    "        if self.optimizer == 'SGD':\n",
    "            self.optimizer_() = optim.SGD(self.ffnn.parameters(), lr=self.learning_rate)\n",
    "            \n",
    "        elif self.optimizer == 'Momentum': # momentum = friction ( 0 high - 1 low - usual 0.9 )\n",
    "            self.optimizer_() = optim.SGD(self.ffnn.parameters(), lr=self.learning_rate, momentum=0.9)\n",
    "            \n",
    "        elif self.optimizer == 'Nesterov':\n",
    "            self.optimizer_() = optim.SGD(self.ffnn.parameters(), lr=self.learning_rate, momentum=0.9, nesterov=True)\n",
    "            \n",
    "        elif self.optimizer == 'AdaGrad': # scales down gradient vector along steepest dims \n",
    "            # Often stops too early for neural nets - NOT FOR DEEP NN\n",
    "            self.optimizer_() = optim.Adagrad()\n",
    "            \n",
    "        elif self.optimizer == 'RMSProp': # like Adagrad but using gradients of most recent iterations plus\n",
    "            # uses exponential decay. Normal alpha working good : 0.9\n",
    "            self.optimizer_() = optim.RMSprop(self.ffnn.parameters(), lr=self.learning_rate, alpha=0.9)\n",
    "            \n",
    "        elif self.optimizer == 'Adam': # Combination of momentum and Rmsprop\n",
    "            # Usual values for b1=0.9, b2=0.999 and e=10^(-7)\n",
    "            # But it is ADAPTIVE algorithm so we can use learning rate = 0.001 without issue\n",
    "            self.optimizer_ = optim.Adam(self.ffnn.parameters(), lr=self.learning_rate, betas=(0.9, 0.99))\n",
    "            \n",
    "        elif self.optimizer == 'AdaMax': # differentiation of Adam. To use if we have problems with plain Adam\n",
    "            self.optimizer_() = optim.Adamax() \n",
    "            \n",
    "        elif self.optimizer == 'Nadam': # Adam using Nesterov trick - TODO: find how to configure\n",
    "            self.optimizer_() = optim.Adam()\n",
    "    \n",
    "    def set_nn_specifics(self):\n",
    "        # Select loss function\n",
    "        if self.loss_function == 'CrossEntropy':\n",
    "            self.loss_function_ = nn.CrossEntropyLoss()\n",
    "        elif self.loss_function == 'MeanSquaredError':\n",
    "            self.loss_function_ = nn.MSELoss()\n",
    "        elif self.loss_function == 'MeanAbsoluteError':\n",
    "            self.loss_function_ = nn.L1Loss()\n",
    "        elif self.loss_function == 'BinaryCrossEntropy':\n",
    "            self.loss_function_ = nn.BCELoss()\n",
    "        elif self.loss_function == 'HuberLoss':\n",
    "            self.loss_function_ = nn.SmoothL1Loss()\n",
    "        else :\n",
    "            pass\n",
    "        \n",
    "        # Select the activation function\n",
    "        # SELU > ELU > leaky ReLU (and variants) > ReLU > tanh > logistic (sigmoid)\n",
    "        if self.activation_function == 'Sigmoid':\n",
    "            self.activation_function_ = nn.Sigmoid()\n",
    "        elif self.activation_function == 'HyperbolicTangent':\n",
    "            self.activation_function_ = nn.Tanh()\n",
    "        elif self.activation_function == 'ReLU': # all ReLU methods need at least He initialization\n",
    "            self.activation_function_ = nn.ReLU()\n",
    "        elif self.activation_function == 'LeakyReLU': # a can be 0.01 - 0.2 (lectures suggestions), normally 0.3 (keras)\n",
    "            self.activation_function_ = nn.LeakyReLU()\n",
    "        elif self.activation_function == 'SoftPlus':\n",
    "            self.activation_function_ = nn.Softplus()\n",
    "        elif self.activation_function == 'SeLU': \n",
    "            # Scaled ELU : very good for dense sequential nets\n",
    "            # Needs 1) LeCun initialization for hidden layers\n",
    "            # 2) standarized input features (mean 0, stdev 1)\n",
    "            self.activation_function_ = nn.SELU() \n",
    "        elif self.activation_function == 'ELU': # Exponential Linear Unit : usually a=1 / slow to compute\n",
    "            self.activation_function_ = nn.ELU()   \n",
    "        elif self.activation_function == 'RReLU': # Randomized leaky Relu\n",
    "            self.activation_function_ = nn.RReLU()          \n",
    "        elif self.activation_function == 'PReLU': # Parametric leaky Relu\n",
    "            self.activation_function_ = nn.PReLU()\n",
    "        else:\n",
    "            pass\n",
    "        \n",
    "\n",
    "    def train_loss_plot(self):\n",
    "        epochs = range(1,self.num_epochs+1)\n",
    "        plt.plot(epochs, self.train_loss, 'g', label='Training loss')\n",
    "        plt.title('Training loss')\n",
    "        plt.xlabel('Epochs')\n",
    "        plt.ylabel('Loss')\n",
    "        plt.legend()\n",
    "        plt.show()"
   ]
  },
  {
   "cell_type": "code",
   "execution_count": 182,
   "metadata": {},
   "outputs": [],
   "source": [
    "ffnn_clasf = FeedForwardNNClassifier(output_dim=2, num_epochs=5, \n",
    "                                     hidden_layers={'hidden_layers_no' : 3, 'hidden_layers_dims': [50, 50, 50]},\n",
    "                                     optimizer='RMSProp', learning_rate=0.001, plot_loss=True)"
   ]
  },
  {
   "cell_type": "code",
   "execution_count": 183,
   "metadata": {},
   "outputs": [],
   "source": [
    "# X = np.random.rand(100,5)\n",
    "# y = np.random.randint(5,size=(100,))\n",
    "# np.unique(y)\n",
    "# ytrain\n",
    "# Xtrain[15,12021]"
   ]
  },
  {
   "cell_type": "code",
   "execution_count": 184,
   "metadata": {},
   "outputs": [
    {
     "name": "stderr",
     "output_type": "stream",
     "text": [
      "\r",
      "  0%|                                                                                            | 0/5 [00:00<?, ?it/s]"
     ]
    },
    {
     "name": "stdout",
     "output_type": "stream",
     "text": [
      "cpu\n"
     ]
    },
    {
     "name": "stderr",
     "output_type": "stream",
     "text": [
      "100%|████████████████████████████████████████████████████████████████████████████████████| 5/5 [00:01<00:00,  3.46it/s]"
     ]
    },
    {
     "name": "stdout",
     "output_type": "stream",
     "text": [
      "151.7992981672287\n"
     ]
    },
    {
     "name": "stderr",
     "output_type": "stream",
     "text": [
      "\n"
     ]
    },
    {
     "data": {
      "image/png": "[encoded data removed]",
      "text/plain": [
       "<Figure size 432x288 with 1 Axes>"
      ]
     },
     "metadata": {
      "needs_background": "light"
     },
     "output_type": "display_data"
    },
    {
     "data": {
      "text/plain": [
       "FeedForwardNNClassifier(hidden_layers={'hidden_layers_dims': [50, 50, 50],\n",
       "                                       'hidden_layers_no': 3},\n",
       "                        learning_rate=0.001, num_epochs=5, optimizer='RMSProp',\n",
       "                        plot_loss=True)"
      ]
     },
     "execution_count": 184,
     "metadata": {},
     "output_type": "execute_result"
    }
   ],
   "source": [
    "ffnn_clasf.fit(Xtrain,ytrain)"
   ]
  },
  {
   "cell_type": "code",
   "execution_count": 161,
   "metadata": {},
   "outputs": [],
   "source": [
    "from sklearn import metrics\n",
    "import matplotlib.pyplot as plt \n",
    "\n",
    "def ffnn_roc_curve_plot(y, ypred_probs, pos_label):\n",
    "    # Get positive sentiments probabilities to use in ROC curve\n",
    "    ypositive_probs = np.array([yi[1] for yi in ypred_probs])\n",
    "    # Calc ROC curve\n",
    "    fpr, tpr, thresholds = metrics.roc_curve(y, ypositive_probs, pos_label=pos_label)\n",
    "    # Display ROC curve\n",
    "    roc_auc = metrics.auc(fpr, tpr)\n",
    "    display = metrics.RocCurveDisplay(fpr=fpr, tpr=tpr, roc_auc=roc_auc, estimator_name='example estimator')\n",
    "    display.plot()  \n",
    "    plt.show()"
   ]
  },
  {
   "cell_type": "code",
   "execution_count": 162,
   "metadata": {},
   "outputs": [],
   "source": [
    "# Predict sentiments probabilities\n",
    "ypred_probs = ffnn_clasf.predict_proba(Xtrain)"
   ]
  },
  {
   "cell_type": "code",
   "execution_count": 163,
   "metadata": {},
   "outputs": [],
   "source": [
    "# ypred_=mynn_clasf.predict(Xtrain)"
   ]
  },
  {
   "cell_type": "code",
   "execution_count": 164,
   "metadata": {},
   "outputs": [],
   "source": [
    "# max(ypred_probs)"
   ]
  },
  {
   "cell_type": "code",
   "execution_count": 165,
   "metadata": {},
   "outputs": [
    {
     "data": {
      "image/png": "[encoded data removed]",
      "text/plain": [
       "<Figure size 432x288 with 1 Axes>"
      ]
     },
     "metadata": {
      "needs_background": "light"
     },
     "output_type": "display_data"
    }
   ],
   "source": [
    "ffnn_roc_curve_plot(ytrain, ypred_probs, pos_label=1)\n",
    "# # Get positive sentiments probabilities to use in ROC curve\n",
    "# ypositive_probs = np.array([yi[1] for yi in ypred])\n",
    "# # Calc ROC curve\n",
    "# fpr, tpr, thresholds = metrics.roc_curve(ytrain, ypositive_probs, pos_label=1)\n",
    "# # Display ROC curve\n",
    "# roc_auc = metrics.auc(fpr, tpr)\n",
    "# display = metrics.RocCurveDisplay(fpr=fpr, tpr=tpr, roc_auc=roc_auc,                                          estimator_name='example estimator')\n",
    "# display.plot()  \n",
    "# plt.show()\n"
   ]
  },
  {
   "cell_type": "code",
   "execution_count": 166,
   "metadata": {},
   "outputs": [
    {
     "name": "stdout",
     "output_type": "stream",
     "text": [
      "              precision    recall  f1-score   support\n",
      "\n",
      "           0       0.52      0.82      0.64      3377\n",
      "           1       0.64      0.29      0.40      3623\n",
      "\n",
      "    accuracy                           0.55      7000\n",
      "   macro avg       0.58      0.56      0.52      7000\n",
      "weighted avg       0.58      0.55      0.51      7000\n",
      "\n"
     ]
    }
   ],
   "source": [
    "# Get predicted labels and show classification report\n",
    "ypred_ = np.argmax(ypred_probs,axis=1)\n",
    "print(classification_report(ytrain,ypred_))"
   ]
  },
  {
   "cell_type": "code",
   "execution_count": 167,
   "metadata": {},
   "outputs": [
    {
     "data": {
      "text/plain": [
       "array([0, 0, 0, ..., 0, 0, 0], dtype=int64)"
      ]
     },
     "execution_count": 167,
     "metadata": {},
     "output_type": "execute_result"
    }
   ],
   "source": [
    "np.argmax(ypred_probs,axis=1)"
   ]
  },
  {
   "cell_type": "code",
   "execution_count": 168,
   "metadata": {},
   "outputs": [],
   "source": [
    "# Predict sentiments probabilities\n",
    "yval_pred_probs = ffnn_clasf.predict_proba(Xval)"
   ]
  },
  {
   "cell_type": "code",
   "execution_count": 169,
   "metadata": {},
   "outputs": [
    {
     "data": {
      "image/png": "[encoded data removed]",
      "text/plain": [
       "<Figure size 432x288 with 1 Axes>"
      ]
     },
     "metadata": {
      "needs_background": "light"
     },
     "output_type": "display_data"
    }
   ],
   "source": [
    "ffnn_roc_curve_plot(yval, yval_pred_probs, pos_label=1)"
   ]
  },
  {
   "cell_type": "code",
   "execution_count": 170,
   "metadata": {},
   "outputs": [
    {
     "name": "stdout",
     "output_type": "stream",
     "text": [
      "              precision    recall  f1-score   support\n",
      "\n",
      "           0       0.53      0.81      0.64       724\n",
      "           1       0.65      0.33      0.43       776\n",
      "\n",
      "    accuracy                           0.56      1500\n",
      "   macro avg       0.59      0.57      0.54      1500\n",
      "weighted avg       0.59      0.56      0.53      1500\n",
      "\n"
     ]
    }
   ],
   "source": [
    "# Get predicted labels and show classification report\n",
    "yval_pred_ = np.argmax(yval_pred_probs,axis=1)\n",
    "print(classification_report(yval,yval_pred_))"
   ]
  },
  {
   "cell_type": "code",
   "execution_count": 98,
   "metadata": {},
   "outputs": [],
   "source": [
    "# sum(yi==1 for yi in ypred)"
   ]
  },
  {
   "cell_type": "code",
   "execution_count": 46,
   "metadata": {},
   "outputs": [],
   "source": [
    "# ytrain"
   ]
  },
  {
   "cell_type": "code",
   "execution_count": 47,
   "metadata": {},
   "outputs": [],
   "source": [
    "# Xtrain_transf[4]"
   ]
  },
  {
   "cell_type": "code",
   "execution_count": 48,
   "metadata": {},
   "outputs": [],
   "source": [
    "# count =0\n",
    "# for i in range(100):\n",
    "#     for j in range(100):\n",
    "#         if (Xtrain_transf[i] == Xtrain_transf[j]).all():\n",
    "#             count+=1\n",
    "\n",
    "# print(count)"
   ]
  },
  {
   "cell_type": "code",
   "execution_count": 49,
   "metadata": {},
   "outputs": [],
   "source": [
    "# loss = nn.CrossEntropyLoss()\n",
    "# input = torch.randn(3, 5, requires_grad=True)\n",
    "# target = torch.empty(3, dtype=torch.long).random_(5)\n",
    "# output = loss(input, target)\n",
    "# output.backward()"
   ]
  },
  {
   "cell_type": "code",
   "execution_count": 217,
   "metadata": {},
   "outputs": [],
   "source": [
    "# Prepare parameters for hyperparameters search\n",
    "from sklearn.utils.fixes import loguniform\n",
    "from scipy.stats import uniform\n",
    "\n",
    "parameters = dict(\n",
    "    num_epochs=range(1,10,1),\n",
    "    batch_size=range(2,100,10),\n",
    "    learning_rate=loguniform(1e-4, 1e-1),\n",
    "    activation_function=['Sigmoid', 'HyperbolicTangent', \n",
    "                         'ReLU', 'LeakyReLU', 'SoftPlus', 'SeLU', 'ELU', 'RReLU', 'PReLU'],\n",
    "#     optimizer=['SGD', 'Momentum', 'Nesterov', 'Adam', 'RMSProp','Adamax', 'AdaGrad', 'Nadam' ],\n",
    "    optimizer=['SGD', 'Momentum', 'Nesterov'],\n",
    "    #loss_function=['BinaryCrossEntropy', 'CrossEntropy', 'MeanSquaredError'], # 'MeanAbsoluteError','HuberLoss'], \n",
    "    hidden_layers=[{'hidden_layers_no' : 2, 'hidden_layers_dims': [50, 50]},\n",
    "                   {'hidden_layers_no' : 2, 'hidden_layers_dims': [100, 100]},\n",
    "                   {'hidden_layers_no' : 2, 'hidden_layers_dims': [300, 300]},\n",
    "                   {'hidden_layers_no' : 3, 'hidden_layers_dims': [50, 50, 50]},\n",
    "                   {'hidden_layers_no' : 3, 'hidden_layers_dims': [100, 100, 100]},\n",
    "                   {'hidden_layers_no' : 3, 'hidden_layers_dims': [300, 300, 300]},\n",
    "                   {'hidden_layers_no' : 3, 'hidden_layers_dims': [500, 200, 200]}\n",
    "                  ]\n",
    ")"
   ]
  },
  {
   "cell_type": "code",
   "execution_count": 218,
   "metadata": {},
   "outputs": [
    {
     "name": "stderr",
     "output_type": "stream",
     "text": [
      "\r",
      "  0%|                                                                                            | 0/8 [00:00<?, ?it/s]"
     ]
    },
    {
     "name": "stdout",
     "output_type": "stream",
     "text": [
      "cpu\n"
     ]
    },
    {
     "name": "stderr",
     "output_type": "stream",
     "text": [
      "100%|████████████████████████████████████████████████████████████████████████████████████| 8/8 [00:19<00:00,  2.45s/it]\n"
     ]
    },
    {
     "name": "stdout",
     "output_type": "stream",
     "text": [
      "1940.812110900879\n",
      "cpu\n"
     ]
    },
    {
     "name": "stderr",
     "output_type": "stream",
     "text": [
      "100%|████████████████████████████████████████████████████████████████████████████████████| 8/8 [00:19<00:00,  2.43s/it]\n",
      "  0%|                                                                                            | 0/8 [00:00<?, ?it/s]"
     ]
    },
    {
     "name": "stdout",
     "output_type": "stream",
     "text": [
      "1940.812110900879\n",
      "cpu\n"
     ]
    },
    {
     "name": "stderr",
     "output_type": "stream",
     "text": [
      "100%|████████████████████████████████████████████████████████████████████████████████████| 8/8 [00:18<00:00,  2.36s/it]\n",
      "  0%|                                                                                            | 0/8 [00:00<?, ?it/s]"
     ]
    },
    {
     "name": "stdout",
     "output_type": "stream",
     "text": [
      "1940.812110900879\n",
      "cpu\n"
     ]
    },
    {
     "name": "stderr",
     "output_type": "stream",
     "text": [
      "100%|████████████████████████████████████████████████████████████████████████████████████| 8/8 [00:19<00:00,  2.42s/it]\n",
      "  0%|                                                                                            | 0/8 [00:00<?, ?it/s]"
     ]
    },
    {
     "name": "stdout",
     "output_type": "stream",
     "text": [
      "1940.812110900879\n",
      "cpu\n"
     ]
    },
    {
     "name": "stderr",
     "output_type": "stream",
     "text": [
      "100%|████████████████████████████████████████████████████████████████████████████████████| 8/8 [00:14<00:00,  1.86s/it]\n",
      "  0%|                                                                                            | 0/7 [00:00<?, ?it/s]"
     ]
    },
    {
     "name": "stdout",
     "output_type": "stream",
     "text": [
      "1940.812110900879\n",
      "cpu\n"
     ]
    },
    {
     "name": "stderr",
     "output_type": "stream",
     "text": [
      "100%|████████████████████████████████████████████████████████████████████████████████████| 7/7 [00:01<00:00,  5.99it/s]\n",
      " 14%|████████████                                                                        | 1/7 [00:00<00:00,  6.31it/s]"
     ]
    },
    {
     "name": "stdout",
     "output_type": "stream",
     "text": [
      "74.75913846492767\n",
      "cpu\n"
     ]
    },
    {
     "name": "stderr",
     "output_type": "stream",
     "text": [
      "100%|████████████████████████████████████████████████████████████████████████████████████| 7/7 [00:01<00:00,  6.35it/s]\n",
      " 14%|████████████                                                                        | 1/7 [00:00<00:00,  6.41it/s]"
     ]
    },
    {
     "name": "stdout",
     "output_type": "stream",
     "text": [
      "74.86316871643066\n",
      "cpu\n"
     ]
    },
    {
     "name": "stderr",
     "output_type": "stream",
     "text": [
      "100%|████████████████████████████████████████████████████████████████████████████████████| 7/7 [00:01<00:00,  6.67it/s]\n",
      " 14%|████████████                                                                        | 1/7 [00:00<00:00,  6.68it/s]"
     ]
    },
    {
     "name": "stdout",
     "output_type": "stream",
     "text": [
      "74.85984647274017\n",
      "cpu\n"
     ]
    },
    {
     "name": "stderr",
     "output_type": "stream",
     "text": [
      "100%|████████████████████████████████████████████████████████████████████████████████████| 7/7 [00:01<00:00,  6.18it/s]\n",
      " 14%|████████████                                                                        | 1/7 [00:00<00:00,  6.39it/s]"
     ]
    },
    {
     "name": "stdout",
     "output_type": "stream",
     "text": [
      "74.7543431520462\n",
      "cpu\n"
     ]
    },
    {
     "name": "stderr",
     "output_type": "stream",
     "text": [
      "100%|████████████████████████████████████████████████████████████████████████████████████| 7/7 [00:01<00:00,  6.33it/s]\n",
      "  0%|                                                                                            | 0/9 [00:00<?, ?it/s]"
     ]
    },
    {
     "name": "stdout",
     "output_type": "stream",
     "text": [
      "74.76309090852737\n",
      "cpu\n"
     ]
    },
    {
     "name": "stderr",
     "output_type": "stream",
     "text": [
      "100%|████████████████████████████████████████████████████████████████████████████████████| 9/9 [00:11<00:00,  1.33s/it]\n",
      "  0%|                                                                                            | 0/9 [00:00<?, ?it/s]"
     ]
    },
    {
     "name": "stdout",
     "output_type": "stream",
     "text": [
      "323.699734210968\n",
      "cpu\n"
     ]
    },
    {
     "name": "stderr",
     "output_type": "stream",
     "text": [
      "100%|████████████████████████████████████████████████████████████████████████████████████| 9/9 [00:10<00:00,  1.21s/it]\n",
      "  0%|                                                                                            | 0/9 [00:00<?, ?it/s]"
     ]
    },
    {
     "name": "stdout",
     "output_type": "stream",
     "text": [
      "323.699734210968\n",
      "cpu\n"
     ]
    },
    {
     "name": "stderr",
     "output_type": "stream",
     "text": [
      "100%|████████████████████████████████████████████████████████████████████████████████████| 9/9 [00:06<00:00,  1.33it/s]\n",
      "  0%|                                                                                            | 0/9 [00:00<?, ?it/s]"
     ]
    },
    {
     "name": "stdout",
     "output_type": "stream",
     "text": [
      "321.9253976345062\n",
      "cpu\n"
     ]
    },
    {
     "name": "stderr",
     "output_type": "stream",
     "text": [
      " 33%|████████████████████████████                                                        | 3/9 [00:03<00:07,  1.20s/it]\n"
     ]
    },
    {
     "ename": "KeyboardInterrupt",
     "evalue": "",
     "output_type": "error",
     "traceback": [
      "\u001b[1;31m---------------------------------------------------------------------------\u001b[0m",
      "\u001b[1;31mKeyboardInterrupt\u001b[0m                         Traceback (most recent call last)",
      "\u001b[1;32m<ipython-input-218-5a009027036d>\u001b[0m in \u001b[0;36m<module>\u001b[1;34m\u001b[0m\n\u001b[0;32m      6\u001b[0m                          \u001b[0mscoring\u001b[0m\u001b[1;33m=\u001b[0m\u001b[1;33m[\u001b[0m\u001b[1;34m'accuracy'\u001b[0m\u001b[1;33m,\u001b[0m\u001b[1;34m'f1_micro'\u001b[0m\u001b[1;33m,\u001b[0m\u001b[1;34m'f1_macro'\u001b[0m\u001b[1;33m]\u001b[0m\u001b[1;33m,\u001b[0m\u001b[1;33m\u001b[0m\u001b[1;33m\u001b[0m\u001b[0m\n\u001b[0;32m      7\u001b[0m                          refit='f1_macro')\n\u001b[1;32m----> 8\u001b[1;33m \u001b[0msearch\u001b[0m\u001b[1;33m=\u001b[0m\u001b[0mffnn_clf_search\u001b[0m\u001b[1;33m.\u001b[0m\u001b[0mfit\u001b[0m\u001b[1;33m(\u001b[0m\u001b[0mXtrain\u001b[0m\u001b[1;33m,\u001b[0m\u001b[0mytrain\u001b[0m\u001b[1;33m)\u001b[0m\u001b[1;33m\u001b[0m\u001b[1;33m\u001b[0m\u001b[0m\n\u001b[0m",
      "\u001b[1;32m~\\PortableSoftware\\Winpython64-3.8.5.0\\WPy64-3850\\python-3.8.5.amd64\\lib\\site-packages\\sklearn\\utils\\validation.py\u001b[0m in \u001b[0;36minner_f\u001b[1;34m(*args, **kwargs)\u001b[0m\n\u001b[0;32m     70\u001b[0m                           FutureWarning)\n\u001b[0;32m     71\u001b[0m         \u001b[0mkwargs\u001b[0m\u001b[1;33m.\u001b[0m\u001b[0mupdate\u001b[0m\u001b[1;33m(\u001b[0m\u001b[1;33m{\u001b[0m\u001b[0mk\u001b[0m\u001b[1;33m:\u001b[0m \u001b[0marg\u001b[0m \u001b[1;32mfor\u001b[0m \u001b[0mk\u001b[0m\u001b[1;33m,\u001b[0m \u001b[0marg\u001b[0m \u001b[1;32min\u001b[0m \u001b[0mzip\u001b[0m\u001b[1;33m(\u001b[0m\u001b[0msig\u001b[0m\u001b[1;33m.\u001b[0m\u001b[0mparameters\u001b[0m\u001b[1;33m,\u001b[0m \u001b[0margs\u001b[0m\u001b[1;33m)\u001b[0m\u001b[1;33m}\u001b[0m\u001b[1;33m)\u001b[0m\u001b[1;33m\u001b[0m\u001b[1;33m\u001b[0m\u001b[0m\n\u001b[1;32m---> 72\u001b[1;33m         \u001b[1;32mreturn\u001b[0m \u001b[0mf\u001b[0m\u001b[1;33m(\u001b[0m\u001b[1;33m**\u001b[0m\u001b[0mkwargs\u001b[0m\u001b[1;33m)\u001b[0m\u001b[1;33m\u001b[0m\u001b[1;33m\u001b[0m\u001b[0m\n\u001b[0m\u001b[0;32m     73\u001b[0m     \u001b[1;32mreturn\u001b[0m \u001b[0minner_f\u001b[0m\u001b[1;33m\u001b[0m\u001b[1;33m\u001b[0m\u001b[0m\n\u001b[0;32m     74\u001b[0m \u001b[1;33m\u001b[0m\u001b[0m\n",
      "\u001b[1;32m~\\PortableSoftware\\Winpython64-3.8.5.0\\WPy64-3850\\python-3.8.5.amd64\\lib\\site-packages\\sklearn\\model_selection\\_search.py\u001b[0m in \u001b[0;36mfit\u001b[1;34m(self, X, y, groups, **fit_params)\u001b[0m\n\u001b[0;32m    734\u001b[0m                 \u001b[1;32mreturn\u001b[0m \u001b[0mresults\u001b[0m\u001b[1;33m\u001b[0m\u001b[1;33m\u001b[0m\u001b[0m\n\u001b[0;32m    735\u001b[0m \u001b[1;33m\u001b[0m\u001b[0m\n\u001b[1;32m--> 736\u001b[1;33m             \u001b[0mself\u001b[0m\u001b[1;33m.\u001b[0m\u001b[0m_run_search\u001b[0m\u001b[1;33m(\u001b[0m\u001b[0mevaluate_candidates\u001b[0m\u001b[1;33m)\u001b[0m\u001b[1;33m\u001b[0m\u001b[1;33m\u001b[0m\u001b[0m\n\u001b[0m\u001b[0;32m    737\u001b[0m \u001b[1;33m\u001b[0m\u001b[0m\n\u001b[0;32m    738\u001b[0m         \u001b[1;31m# For multi-metric evaluation, store the best_index_, best_params_ and\u001b[0m\u001b[1;33m\u001b[0m\u001b[1;33m\u001b[0m\u001b[1;33m\u001b[0m\u001b[0m\n",
      "\u001b[1;32m~\\PortableSoftware\\Winpython64-3.8.5.0\\WPy64-3850\\python-3.8.5.amd64\\lib\\site-packages\\sklearn\\model_selection\\_search.py\u001b[0m in \u001b[0;36m_run_search\u001b[1;34m(self, evaluate_candidates)\u001b[0m\n\u001b[0;32m   1527\u001b[0m     \u001b[1;32mdef\u001b[0m \u001b[0m_run_search\u001b[0m\u001b[1;33m(\u001b[0m\u001b[0mself\u001b[0m\u001b[1;33m,\u001b[0m \u001b[0mevaluate_candidates\u001b[0m\u001b[1;33m)\u001b[0m\u001b[1;33m:\u001b[0m\u001b[1;33m\u001b[0m\u001b[1;33m\u001b[0m\u001b[0m\n\u001b[0;32m   1528\u001b[0m         \u001b[1;34m\"\"\"Search n_iter candidates from param_distributions\"\"\"\u001b[0m\u001b[1;33m\u001b[0m\u001b[1;33m\u001b[0m\u001b[0m\n\u001b[1;32m-> 1529\u001b[1;33m         evaluate_candidates(ParameterSampler(\n\u001b[0m\u001b[0;32m   1530\u001b[0m             \u001b[0mself\u001b[0m\u001b[1;33m.\u001b[0m\u001b[0mparam_distributions\u001b[0m\u001b[1;33m,\u001b[0m \u001b[0mself\u001b[0m\u001b[1;33m.\u001b[0m\u001b[0mn_iter\u001b[0m\u001b[1;33m,\u001b[0m\u001b[1;33m\u001b[0m\u001b[1;33m\u001b[0m\u001b[0m\n\u001b[0;32m   1531\u001b[0m             random_state=self.random_state))\n",
      "\u001b[1;32m~\\PortableSoftware\\Winpython64-3.8.5.0\\WPy64-3850\\python-3.8.5.amd64\\lib\\site-packages\\sklearn\\model_selection\\_search.py\u001b[0m in \u001b[0;36mevaluate_candidates\u001b[1;34m(candidate_params)\u001b[0m\n\u001b[0;32m    706\u001b[0m                               n_splits, n_candidates, n_candidates * n_splits))\n\u001b[0;32m    707\u001b[0m \u001b[1;33m\u001b[0m\u001b[0m\n\u001b[1;32m--> 708\u001b[1;33m                 out = parallel(delayed(_fit_and_score)(clone(base_estimator),\n\u001b[0m\u001b[0;32m    709\u001b[0m                                                        \u001b[0mX\u001b[0m\u001b[1;33m,\u001b[0m \u001b[0my\u001b[0m\u001b[1;33m,\u001b[0m\u001b[1;33m\u001b[0m\u001b[1;33m\u001b[0m\u001b[0m\n\u001b[0;32m    710\u001b[0m                                                        \u001b[0mtrain\u001b[0m\u001b[1;33m=\u001b[0m\u001b[0mtrain\u001b[0m\u001b[1;33m,\u001b[0m \u001b[0mtest\u001b[0m\u001b[1;33m=\u001b[0m\u001b[0mtest\u001b[0m\u001b[1;33m,\u001b[0m\u001b[1;33m\u001b[0m\u001b[1;33m\u001b[0m\u001b[0m\n",
      "\u001b[1;32m~\\PortableSoftware\\Winpython64-3.8.5.0\\WPy64-3850\\python-3.8.5.amd64\\lib\\site-packages\\joblib\\parallel.py\u001b[0m in \u001b[0;36m__call__\u001b[1;34m(self, iterable)\u001b[0m\n\u001b[0;32m   1030\u001b[0m                 \u001b[0mself\u001b[0m\u001b[1;33m.\u001b[0m\u001b[0m_iterating\u001b[0m \u001b[1;33m=\u001b[0m \u001b[0mself\u001b[0m\u001b[1;33m.\u001b[0m\u001b[0m_original_iterator\u001b[0m \u001b[1;32mis\u001b[0m \u001b[1;32mnot\u001b[0m \u001b[1;32mNone\u001b[0m\u001b[1;33m\u001b[0m\u001b[1;33m\u001b[0m\u001b[0m\n\u001b[0;32m   1031\u001b[0m \u001b[1;33m\u001b[0m\u001b[0m\n\u001b[1;32m-> 1032\u001b[1;33m             \u001b[1;32mwhile\u001b[0m \u001b[0mself\u001b[0m\u001b[1;33m.\u001b[0m\u001b[0mdispatch_one_batch\u001b[0m\u001b[1;33m(\u001b[0m\u001b[0miterator\u001b[0m\u001b[1;33m)\u001b[0m\u001b[1;33m:\u001b[0m\u001b[1;33m\u001b[0m\u001b[1;33m\u001b[0m\u001b[0m\n\u001b[0m\u001b[0;32m   1033\u001b[0m                 \u001b[1;32mpass\u001b[0m\u001b[1;33m\u001b[0m\u001b[1;33m\u001b[0m\u001b[0m\n\u001b[0;32m   1034\u001b[0m \u001b[1;33m\u001b[0m\u001b[0m\n",
      "\u001b[1;32m~\\PortableSoftware\\Winpython64-3.8.5.0\\WPy64-3850\\python-3.8.5.amd64\\lib\\site-packages\\joblib\\parallel.py\u001b[0m in \u001b[0;36mdispatch_one_batch\u001b[1;34m(self, iterator)\u001b[0m\n\u001b[0;32m    845\u001b[0m                 \u001b[1;32mreturn\u001b[0m \u001b[1;32mFalse\u001b[0m\u001b[1;33m\u001b[0m\u001b[1;33m\u001b[0m\u001b[0m\n\u001b[0;32m    846\u001b[0m             \u001b[1;32melse\u001b[0m\u001b[1;33m:\u001b[0m\u001b[1;33m\u001b[0m\u001b[1;33m\u001b[0m\u001b[0m\n\u001b[1;32m--> 847\u001b[1;33m                 \u001b[0mself\u001b[0m\u001b[1;33m.\u001b[0m\u001b[0m_dispatch\u001b[0m\u001b[1;33m(\u001b[0m\u001b[0mtasks\u001b[0m\u001b[1;33m)\u001b[0m\u001b[1;33m\u001b[0m\u001b[1;33m\u001b[0m\u001b[0m\n\u001b[0m\u001b[0;32m    848\u001b[0m                 \u001b[1;32mreturn\u001b[0m \u001b[1;32mTrue\u001b[0m\u001b[1;33m\u001b[0m\u001b[1;33m\u001b[0m\u001b[0m\n\u001b[0;32m    849\u001b[0m \u001b[1;33m\u001b[0m\u001b[0m\n",
      "\u001b[1;32m~\\PortableSoftware\\Winpython64-3.8.5.0\\WPy64-3850\\python-3.8.5.amd64\\lib\\site-packages\\joblib\\parallel.py\u001b[0m in \u001b[0;36m_dispatch\u001b[1;34m(self, batch)\u001b[0m\n\u001b[0;32m    763\u001b[0m         \u001b[1;32mwith\u001b[0m \u001b[0mself\u001b[0m\u001b[1;33m.\u001b[0m\u001b[0m_lock\u001b[0m\u001b[1;33m:\u001b[0m\u001b[1;33m\u001b[0m\u001b[1;33m\u001b[0m\u001b[0m\n\u001b[0;32m    764\u001b[0m             \u001b[0mjob_idx\u001b[0m \u001b[1;33m=\u001b[0m \u001b[0mlen\u001b[0m\u001b[1;33m(\u001b[0m\u001b[0mself\u001b[0m\u001b[1;33m.\u001b[0m\u001b[0m_jobs\u001b[0m\u001b[1;33m)\u001b[0m\u001b[1;33m\u001b[0m\u001b[1;33m\u001b[0m\u001b[0m\n\u001b[1;32m--> 765\u001b[1;33m             \u001b[0mjob\u001b[0m \u001b[1;33m=\u001b[0m \u001b[0mself\u001b[0m\u001b[1;33m.\u001b[0m\u001b[0m_backend\u001b[0m\u001b[1;33m.\u001b[0m\u001b[0mapply_async\u001b[0m\u001b[1;33m(\u001b[0m\u001b[0mbatch\u001b[0m\u001b[1;33m,\u001b[0m \u001b[0mcallback\u001b[0m\u001b[1;33m=\u001b[0m\u001b[0mcb\u001b[0m\u001b[1;33m)\u001b[0m\u001b[1;33m\u001b[0m\u001b[1;33m\u001b[0m\u001b[0m\n\u001b[0m\u001b[0;32m    766\u001b[0m             \u001b[1;31m# A job can complete so quickly than its callback is\u001b[0m\u001b[1;33m\u001b[0m\u001b[1;33m\u001b[0m\u001b[1;33m\u001b[0m\u001b[0m\n\u001b[0;32m    767\u001b[0m             \u001b[1;31m# called before we get here, causing self._jobs to\u001b[0m\u001b[1;33m\u001b[0m\u001b[1;33m\u001b[0m\u001b[1;33m\u001b[0m\u001b[0m\n",
      "\u001b[1;32m~\\PortableSoftware\\Winpython64-3.8.5.0\\WPy64-3850\\python-3.8.5.amd64\\lib\\site-packages\\joblib\\_parallel_backends.py\u001b[0m in \u001b[0;36mapply_async\u001b[1;34m(self, func, callback)\u001b[0m\n\u001b[0;32m    206\u001b[0m     \u001b[1;32mdef\u001b[0m \u001b[0mapply_async\u001b[0m\u001b[1;33m(\u001b[0m\u001b[0mself\u001b[0m\u001b[1;33m,\u001b[0m \u001b[0mfunc\u001b[0m\u001b[1;33m,\u001b[0m \u001b[0mcallback\u001b[0m\u001b[1;33m=\u001b[0m\u001b[1;32mNone\u001b[0m\u001b[1;33m)\u001b[0m\u001b[1;33m:\u001b[0m\u001b[1;33m\u001b[0m\u001b[1;33m\u001b[0m\u001b[0m\n\u001b[0;32m    207\u001b[0m         \u001b[1;34m\"\"\"Schedule a func to be run\"\"\"\u001b[0m\u001b[1;33m\u001b[0m\u001b[1;33m\u001b[0m\u001b[0m\n\u001b[1;32m--> 208\u001b[1;33m         \u001b[0mresult\u001b[0m \u001b[1;33m=\u001b[0m \u001b[0mImmediateResult\u001b[0m\u001b[1;33m(\u001b[0m\u001b[0mfunc\u001b[0m\u001b[1;33m)\u001b[0m\u001b[1;33m\u001b[0m\u001b[1;33m\u001b[0m\u001b[0m\n\u001b[0m\u001b[0;32m    209\u001b[0m         \u001b[1;32mif\u001b[0m \u001b[0mcallback\u001b[0m\u001b[1;33m:\u001b[0m\u001b[1;33m\u001b[0m\u001b[1;33m\u001b[0m\u001b[0m\n\u001b[0;32m    210\u001b[0m             \u001b[0mcallback\u001b[0m\u001b[1;33m(\u001b[0m\u001b[0mresult\u001b[0m\u001b[1;33m)\u001b[0m\u001b[1;33m\u001b[0m\u001b[1;33m\u001b[0m\u001b[0m\n",
      "\u001b[1;32m~\\PortableSoftware\\Winpython64-3.8.5.0\\WPy64-3850\\python-3.8.5.amd64\\lib\\site-packages\\joblib\\_parallel_backends.py\u001b[0m in \u001b[0;36m__init__\u001b[1;34m(self, batch)\u001b[0m\n\u001b[0;32m    570\u001b[0m         \u001b[1;31m# Don't delay the application, to avoid keeping the input\u001b[0m\u001b[1;33m\u001b[0m\u001b[1;33m\u001b[0m\u001b[1;33m\u001b[0m\u001b[0m\n\u001b[0;32m    571\u001b[0m         \u001b[1;31m# arguments in memory\u001b[0m\u001b[1;33m\u001b[0m\u001b[1;33m\u001b[0m\u001b[1;33m\u001b[0m\u001b[0m\n\u001b[1;32m--> 572\u001b[1;33m         \u001b[0mself\u001b[0m\u001b[1;33m.\u001b[0m\u001b[0mresults\u001b[0m \u001b[1;33m=\u001b[0m \u001b[0mbatch\u001b[0m\u001b[1;33m(\u001b[0m\u001b[1;33m)\u001b[0m\u001b[1;33m\u001b[0m\u001b[1;33m\u001b[0m\u001b[0m\n\u001b[0m\u001b[0;32m    573\u001b[0m \u001b[1;33m\u001b[0m\u001b[0m\n\u001b[0;32m    574\u001b[0m     \u001b[1;32mdef\u001b[0m \u001b[0mget\u001b[0m\u001b[1;33m(\u001b[0m\u001b[0mself\u001b[0m\u001b[1;33m)\u001b[0m\u001b[1;33m:\u001b[0m\u001b[1;33m\u001b[0m\u001b[1;33m\u001b[0m\u001b[0m\n",
      "\u001b[1;32m~\\PortableSoftware\\Winpython64-3.8.5.0\\WPy64-3850\\python-3.8.5.amd64\\lib\\site-packages\\joblib\\parallel.py\u001b[0m in \u001b[0;36m__call__\u001b[1;34m(self)\u001b[0m\n\u001b[0;32m    250\u001b[0m         \u001b[1;31m# change the default number of processes to -1\u001b[0m\u001b[1;33m\u001b[0m\u001b[1;33m\u001b[0m\u001b[1;33m\u001b[0m\u001b[0m\n\u001b[0;32m    251\u001b[0m         \u001b[1;32mwith\u001b[0m \u001b[0mparallel_backend\u001b[0m\u001b[1;33m(\u001b[0m\u001b[0mself\u001b[0m\u001b[1;33m.\u001b[0m\u001b[0m_backend\u001b[0m\u001b[1;33m,\u001b[0m \u001b[0mn_jobs\u001b[0m\u001b[1;33m=\u001b[0m\u001b[0mself\u001b[0m\u001b[1;33m.\u001b[0m\u001b[0m_n_jobs\u001b[0m\u001b[1;33m)\u001b[0m\u001b[1;33m:\u001b[0m\u001b[1;33m\u001b[0m\u001b[1;33m\u001b[0m\u001b[0m\n\u001b[1;32m--> 252\u001b[1;33m             return [func(*args, **kwargs)\n\u001b[0m\u001b[0;32m    253\u001b[0m                     for func, args, kwargs in self.items]\n\u001b[0;32m    254\u001b[0m \u001b[1;33m\u001b[0m\u001b[0m\n",
      "\u001b[1;32m~\\PortableSoftware\\Winpython64-3.8.5.0\\WPy64-3850\\python-3.8.5.amd64\\lib\\site-packages\\joblib\\parallel.py\u001b[0m in \u001b[0;36m<listcomp>\u001b[1;34m(.0)\u001b[0m\n\u001b[0;32m    250\u001b[0m         \u001b[1;31m# change the default number of processes to -1\u001b[0m\u001b[1;33m\u001b[0m\u001b[1;33m\u001b[0m\u001b[1;33m\u001b[0m\u001b[0m\n\u001b[0;32m    251\u001b[0m         \u001b[1;32mwith\u001b[0m \u001b[0mparallel_backend\u001b[0m\u001b[1;33m(\u001b[0m\u001b[0mself\u001b[0m\u001b[1;33m.\u001b[0m\u001b[0m_backend\u001b[0m\u001b[1;33m,\u001b[0m \u001b[0mn_jobs\u001b[0m\u001b[1;33m=\u001b[0m\u001b[0mself\u001b[0m\u001b[1;33m.\u001b[0m\u001b[0m_n_jobs\u001b[0m\u001b[1;33m)\u001b[0m\u001b[1;33m:\u001b[0m\u001b[1;33m\u001b[0m\u001b[1;33m\u001b[0m\u001b[0m\n\u001b[1;32m--> 252\u001b[1;33m             return [func(*args, **kwargs)\n\u001b[0m\u001b[0;32m    253\u001b[0m                     for func, args, kwargs in self.items]\n\u001b[0;32m    254\u001b[0m \u001b[1;33m\u001b[0m\u001b[0m\n",
      "\u001b[1;32m~\\PortableSoftware\\Winpython64-3.8.5.0\\WPy64-3850\\python-3.8.5.amd64\\lib\\site-packages\\sklearn\\model_selection\\_validation.py\u001b[0m in \u001b[0;36m_fit_and_score\u001b[1;34m(estimator, X, y, scorer, train, test, verbose, parameters, fit_params, return_train_score, return_parameters, return_n_test_samples, return_times, return_estimator, error_score)\u001b[0m\n\u001b[0;32m    529\u001b[0m             \u001b[0mestimator\u001b[0m\u001b[1;33m.\u001b[0m\u001b[0mfit\u001b[0m\u001b[1;33m(\u001b[0m\u001b[0mX_train\u001b[0m\u001b[1;33m,\u001b[0m \u001b[1;33m**\u001b[0m\u001b[0mfit_params\u001b[0m\u001b[1;33m)\u001b[0m\u001b[1;33m\u001b[0m\u001b[1;33m\u001b[0m\u001b[0m\n\u001b[0;32m    530\u001b[0m         \u001b[1;32melse\u001b[0m\u001b[1;33m:\u001b[0m\u001b[1;33m\u001b[0m\u001b[1;33m\u001b[0m\u001b[0m\n\u001b[1;32m--> 531\u001b[1;33m             \u001b[0mestimator\u001b[0m\u001b[1;33m.\u001b[0m\u001b[0mfit\u001b[0m\u001b[1;33m(\u001b[0m\u001b[0mX_train\u001b[0m\u001b[1;33m,\u001b[0m \u001b[0my_train\u001b[0m\u001b[1;33m,\u001b[0m \u001b[1;33m**\u001b[0m\u001b[0mfit_params\u001b[0m\u001b[1;33m)\u001b[0m\u001b[1;33m\u001b[0m\u001b[1;33m\u001b[0m\u001b[0m\n\u001b[0m\u001b[0;32m    532\u001b[0m \u001b[1;33m\u001b[0m\u001b[0m\n\u001b[0;32m    533\u001b[0m     \u001b[1;32mexcept\u001b[0m \u001b[0mException\u001b[0m \u001b[1;32mas\u001b[0m \u001b[0me\u001b[0m\u001b[1;33m:\u001b[0m\u001b[1;33m\u001b[0m\u001b[1;33m\u001b[0m\u001b[0m\n",
      "\u001b[1;32m<ipython-input-174-bab201f4ded3>\u001b[0m in \u001b[0;36mfit\u001b[1;34m(self, X, y)\u001b[0m\n\u001b[0;32m    132\u001b[0m \u001b[1;33m\u001b[0m\u001b[0m\n\u001b[0;32m    133\u001b[0m                 \u001b[1;31m# Updating parameters\u001b[0m\u001b[1;33m\u001b[0m\u001b[1;33m\u001b[0m\u001b[1;33m\u001b[0m\u001b[0m\n\u001b[1;32m--> 134\u001b[1;33m                 \u001b[0mself\u001b[0m\u001b[1;33m.\u001b[0m\u001b[0moptimizer_\u001b[0m\u001b[1;33m.\u001b[0m\u001b[0mstep\u001b[0m\u001b[1;33m(\u001b[0m\u001b[1;33m)\u001b[0m\u001b[1;33m\u001b[0m\u001b[1;33m\u001b[0m\u001b[0m\n\u001b[0m\u001b[0;32m    135\u001b[0m \u001b[1;33m\u001b[0m\u001b[0m\n\u001b[0;32m    136\u001b[0m                 \u001b[1;31m# # Write loss in file\u001b[0m\u001b[1;33m\u001b[0m\u001b[1;33m\u001b[0m\u001b[1;33m\u001b[0m\u001b[0m\n",
      "\u001b[1;32m~\\PortableSoftware\\Winpython64-3.8.5.0\\WPy64-3850\\python-3.8.5.amd64\\lib\\site-packages\\torch\\autograd\\grad_mode.py\u001b[0m in \u001b[0;36mdecorate_context\u001b[1;34m(*args, **kwargs)\u001b[0m\n\u001b[0;32m     24\u001b[0m         \u001b[1;32mdef\u001b[0m \u001b[0mdecorate_context\u001b[0m\u001b[1;33m(\u001b[0m\u001b[1;33m*\u001b[0m\u001b[0margs\u001b[0m\u001b[1;33m,\u001b[0m \u001b[1;33m**\u001b[0m\u001b[0mkwargs\u001b[0m\u001b[1;33m)\u001b[0m\u001b[1;33m:\u001b[0m\u001b[1;33m\u001b[0m\u001b[1;33m\u001b[0m\u001b[0m\n\u001b[0;32m     25\u001b[0m             \u001b[1;32mwith\u001b[0m \u001b[0mself\u001b[0m\u001b[1;33m.\u001b[0m\u001b[0m__class__\u001b[0m\u001b[1;33m(\u001b[0m\u001b[1;33m)\u001b[0m\u001b[1;33m:\u001b[0m\u001b[1;33m\u001b[0m\u001b[1;33m\u001b[0m\u001b[0m\n\u001b[1;32m---> 26\u001b[1;33m                 \u001b[1;32mreturn\u001b[0m \u001b[0mfunc\u001b[0m\u001b[1;33m(\u001b[0m\u001b[1;33m*\u001b[0m\u001b[0margs\u001b[0m\u001b[1;33m,\u001b[0m \u001b[1;33m**\u001b[0m\u001b[0mkwargs\u001b[0m\u001b[1;33m)\u001b[0m\u001b[1;33m\u001b[0m\u001b[1;33m\u001b[0m\u001b[0m\n\u001b[0m\u001b[0;32m     27\u001b[0m         \u001b[1;32mreturn\u001b[0m \u001b[0mcast\u001b[0m\u001b[1;33m(\u001b[0m\u001b[0mF\u001b[0m\u001b[1;33m,\u001b[0m \u001b[0mdecorate_context\u001b[0m\u001b[1;33m)\u001b[0m\u001b[1;33m\u001b[0m\u001b[1;33m\u001b[0m\u001b[0m\n\u001b[0;32m     28\u001b[0m \u001b[1;33m\u001b[0m\u001b[0m\n",
      "\u001b[1;32m~\\PortableSoftware\\Winpython64-3.8.5.0\\WPy64-3850\\python-3.8.5.amd64\\lib\\site-packages\\torch\\optim\\sgd.py\u001b[0m in \u001b[0;36mstep\u001b[1;34m(self, closure)\u001b[0m\n\u001b[0;32m    110\u001b[0m                         \u001b[0md_p\u001b[0m \u001b[1;33m=\u001b[0m \u001b[0mbuf\u001b[0m\u001b[1;33m\u001b[0m\u001b[1;33m\u001b[0m\u001b[0m\n\u001b[0;32m    111\u001b[0m \u001b[1;33m\u001b[0m\u001b[0m\n\u001b[1;32m--> 112\u001b[1;33m                 \u001b[0mp\u001b[0m\u001b[1;33m.\u001b[0m\u001b[0madd_\u001b[0m\u001b[1;33m(\u001b[0m\u001b[0md_p\u001b[0m\u001b[1;33m,\u001b[0m \u001b[0malpha\u001b[0m\u001b[1;33m=\u001b[0m\u001b[1;33m-\u001b[0m\u001b[0mgroup\u001b[0m\u001b[1;33m[\u001b[0m\u001b[1;34m'lr'\u001b[0m\u001b[1;33m]\u001b[0m\u001b[1;33m)\u001b[0m\u001b[1;33m\u001b[0m\u001b[1;33m\u001b[0m\u001b[0m\n\u001b[0m\u001b[0;32m    113\u001b[0m \u001b[1;33m\u001b[0m\u001b[0m\n\u001b[0;32m    114\u001b[0m         \u001b[1;32mreturn\u001b[0m \u001b[0mloss\u001b[0m\u001b[1;33m\u001b[0m\u001b[1;33m\u001b[0m\u001b[0m\n",
      "\u001b[1;31mKeyboardInterrupt\u001b[0m: "
     ]
    }
   ],
   "source": [
    "from sklearn.model_selection import RandomizedSearchCV\n",
    "from scipy.stats import uniform\n",
    "\n",
    "ffnn_clf = FeedForwardNNClassifier(loss_function='CrossEntropy')\n",
    "ffnn_clf_search = RandomizedSearchCV(ffnn_clf, parameters, random_state=0,\n",
    "                         scoring=['accuracy','f1_micro','f1_macro'],\n",
    "                         refit='f1_macro')\n",
    "search=ffnn_clf_search.fit(Xtrain,ytrain)"
   ]
  },
  {
   "cell_type": "code",
   "execution_count": 203,
   "metadata": {},
   "outputs": [
    {
     "data": {
      "text/plain": [
       "0.33794234509061133"
      ]
     },
     "execution_count": 203,
     "metadata": {},
     "output_type": "execute_result"
    }
   ],
   "source": [
    "ffnn_clf_search.best_score_"
   ]
  },
  {
   "cell_type": "code",
   "execution_count": 126,
   "metadata": {},
   "outputs": [],
   "source": [
    "from scipy.stats import uniform\n",
    "distributions = dict(C=uniform(loc=0, scale=4),\n",
    "                     penalty=['l2', 'l1'])"
   ]
  },
  {
   "cell_type": "code",
   "execution_count": 110,
   "metadata": {},
   "outputs": [],
   "source": [
    "a=range(10,5000,100)"
   ]
  },
  {
   "cell_type": "code",
   "execution_count": 113,
   "metadata": {},
   "outputs": [],
   "source": [
    "# learning_rate=loguniform(1e-4, 1e-1)\n",
    "# for i in enumerate(learning_rate):\n",
    "#     print(i)"
   ]
  },
  {
   "cell_type": "code",
   "execution_count": 102,
   "metadata": {},
   "outputs": [
    {
     "ename": "NameError",
     "evalue": "name 'parameters' is not defined",
     "output_type": "error",
     "traceback": [
      "\u001b[1;31m---------------------------------------------------------------------------\u001b[0m",
      "\u001b[1;31mNameError\u001b[0m                                 Traceback (most recent call last)",
      "\u001b[1;32m<ipython-input-102-96c8e3c26a46>\u001b[0m in \u001b[0;36m<module>\u001b[1;34m\u001b[0m\n\u001b[0;32m      9\u001b[0m distributions = dict(C=uniform(loc=0,scale=4),\n\u001b[0;32m     10\u001b[0m                      penalty=['l2', 'l1'])\n\u001b[1;32m---> 11\u001b[1;33m clf = RandomizedSearchCV(logistic, parameters, random_state=0,\n\u001b[0m\u001b[0;32m     12\u001b[0m                          \u001b[0mscoring\u001b[0m\u001b[1;33m=\u001b[0m\u001b[1;33m[\u001b[0m\u001b[1;34m'accuracy'\u001b[0m\u001b[1;33m,\u001b[0m\u001b[1;34m'f1_micro'\u001b[0m\u001b[1;33m,\u001b[0m\u001b[1;34m'f1_macro'\u001b[0m\u001b[1;33m]\u001b[0m\u001b[1;33m,\u001b[0m\u001b[1;33m\u001b[0m\u001b[1;33m\u001b[0m\u001b[0m\n\u001b[0;32m     13\u001b[0m                         refit='f1_macro')\n",
      "\u001b[1;31mNameError\u001b[0m: name 'parameters' is not defined"
     ]
    }
   ],
   "source": [
    "from sklearn.model_selection import RandomizedSearchCV\n",
    "from scipy.stats import uniform\n",
    "logistic = LogisticRegression(solver='saga', tol=1e-2, max_iter=1000,\n",
    "                              random_state=0)\n",
    "# C=uniform(loc=0, scale=4)\n",
    "distributions = dict(C=uniform(loc=0,scale=4),\n",
    "                     penalty=['l2', 'l1'])\n",
    "clf = RandomizedSearchCV(logistic, parameters, random_state=0,\n",
    "                         scoring=['accuracy','f1_micro','f1_macro'],\n",
    "                        refit='f1_macro')\n",
    "search = clf.fit(iris.data, iris.target)\n",
    "search.best_params_\n"
   ]
  },
  {
   "cell_type": "code",
   "execution_count": 184,
   "metadata": {},
   "outputs": [],
   "source": [
    "# from sklearn import metrics\n",
    "# sorted(metrics.SCORERS.keys())"
   ]
  },
  {
   "cell_type": "code",
   "execution_count": 143,
   "metadata": {},
   "outputs": [
    {
     "data": {
      "text/plain": [
       "<scipy.stats._distn_infrastructure.rv_frozen at 0x1bb357b0880>"
      ]
     },
     "execution_count": 143,
     "metadata": {},
     "output_type": "execute_result"
    }
   ],
   "source": [
    "uniform(loc=0,scale=4)"
   ]
  },
  {
   "cell_type": "code",
   "execution_count": 178,
   "metadata": {},
   "outputs": [],
   "source": [
    "r = uniform.rvs(loc=10, scale=2,size=10)"
   ]
  },
  {
   "cell_type": "code",
   "execution_count": 179,
   "metadata": {},
   "outputs": [
    {
     "data": {
      "text/plain": [
       "array([11.91867943, 10.58339197, 11.36059496, 11.76778734, 10.329172  ,\n",
       "       10.28218035, 11.88956828, 10.62086698, 10.85483231, 11.43619208])"
      ]
     },
     "execution_count": 179,
     "metadata": {},
     "output_type": "execute_result"
    }
   ],
   "source": [
    "r"
   ]
  },
  {
   "cell_type": "code",
   "execution_count": 183,
   "metadata": {},
   "outputs": [
    {
     "name": "stdout",
     "output_type": "stream",
     "text": [
      "[1.10755070e+032 1.16708056e+201 2.26757837e-007 0.00000000e+000\n",
      "             inf 0.00000000e+000             inf 0.00000000e+000\n",
      " 5.30896738e+186             inf]\n"
     ]
    }
   ],
   "source": [
    "s = np.random.(10,1000,10)\n",
    "print(s)"
   ]
  },
  {
   "cell_type": "code",
   "execution_count": 204,
   "metadata": {},
   "outputs": [],
   "source": [
    "m = nn.Sigmoid()\n",
    "loss = nn.BCELoss()\n",
    "input = torch.randn(3, requires_grad=True)\n",
    "target = torch.empty(3).random_(2)\n",
    "output = loss(m(input), target)\n",
    "output.backward()"
   ]
  },
  {
   "cell_type": "code",
   "execution_count": 205,
   "metadata": {},
   "outputs": [
    {
     "data": {
      "text/plain": [
       "tensor([0.5627, 0.3305, 0.2350], requires_grad=True)"
      ]
     },
     "execution_count": 205,
     "metadata": {},
     "output_type": "execute_result"
    }
   ],
   "source": [
    "input"
   ]
  },
  {
   "cell_type": "code",
   "execution_count": 206,
   "metadata": {},
   "outputs": [
    {
     "data": {
      "text/plain": [
       "tensor([1., 1., 0.])"
      ]
     },
     "execution_count": 206,
     "metadata": {},
     "output_type": "execute_result"
    }
   ],
   "source": [
    "target"
   ]
  },
  {
   "cell_type": "code",
   "execution_count": 207,
   "metadata": {},
   "outputs": [
    {
     "data": {
      "text/plain": [
       "tensor([0.6371, 0.5819, 0.5585], grad_fn=<SigmoidBackward>)"
      ]
     },
     "execution_count": 207,
     "metadata": {},
     "output_type": "execute_result"
    }
   ],
   "source": [
    "m(input)"
   ]
  },
  {
   "cell_type": "code",
   "execution_count": 208,
   "metadata": {},
   "outputs": [
    {
     "name": "stderr",
     "output_type": "stream",
     "text": [
      "<ipython-input-208-932cdadf3e64>:3: UserWarning: Implicit dimension choice for log_softmax has been deprecated. Change the call to include dim=X as an argument.\n",
      "  output = m(input)\n"
     ]
    }
   ],
   "source": [
    "m = nn.LogSoftmax()\n",
    "input = torch.randn(2, 3)\n",
    "output = m(input)"
   ]
  },
  {
   "cell_type": "code",
   "execution_count": 209,
   "metadata": {},
   "outputs": [
    {
     "data": {
      "text/plain": [
       "tensor([[-0.5019, -1.4141, -1.8872],\n",
       "        [-0.6327, -1.2253, -1.7420]])"
      ]
     },
     "execution_count": 209,
     "metadata": {},
     "output_type": "execute_result"
    }
   ],
   "source": [
    "output"
   ]
  },
  {
   "cell_type": "code",
   "execution_count": 210,
   "metadata": {},
   "outputs": [
    {
     "data": {
      "text/plain": [
       "tensor([[ 0.2869, -0.6252, -1.0983],\n",
       "        [ 0.5798, -0.0128, -0.5296]])"
      ]
     },
     "execution_count": 210,
     "metadata": {},
     "output_type": "execute_result"
    }
   ],
   "source": [
    "input"
   ]
  },
  {
   "cell_type": "code",
   "execution_count": 213,
   "metadata": {},
   "outputs": [],
   "source": [
    "k = nn.NLLLoss()\n",
    "input2=output\n",
    "target=torch.tensor([1,2])\n",
    "output2=k(input2,target)"
   ]
  },
  {
   "cell_type": "code",
   "execution_count": 215,
   "metadata": {},
   "outputs": [
    {
     "data": {
      "text/plain": [
       "tensor([[-0.5019, -1.4141, -1.8872],\n",
       "        [-0.6327, -1.2253, -1.7420]])"
      ]
     },
     "execution_count": 215,
     "metadata": {},
     "output_type": "execute_result"
    }
   ],
   "source": [
    "input2"
   ]
  },
  {
   "cell_type": "code",
   "execution_count": null,
   "metadata": {},
   "outputs": [],
   "source": []
  }
 ],
 "metadata": {
  "kernelspec": {
   "display_name": "Python 3",
   "language": "python",
   "name": "python3"
  },
  "language_info": {
   "codemirror_mode": {
    "name": "ipython",
    "version": 3
   },
   "file_extension": ".py",
   "mimetype": "text/x-python",
   "name": "python",
   "nbconvert_exporter": "python",
   "pygments_lexer": "ipython3",
   "version": "3.8.5"
  }
 },
 "nbformat": 4,
 "nbformat_minor": 4
}
